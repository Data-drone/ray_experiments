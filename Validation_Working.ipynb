{
 "cells": [
  {
   "cell_type": "code",
   "execution_count": 1,
   "metadata": {},
   "outputs": [],
   "source": [
    "# Initialise Ray\n",
    "import ray"
   ]
  },
  {
   "cell_type": "code",
   "execution_count": 6,
   "metadata": {},
   "outputs": [
    {
     "name": "stderr",
     "output_type": "stream",
     "text": [
      "2020-11-29 03:08:57,753\tINFO services.py:1090 -- View the Ray dashboard at \u001b[1m\u001b[32mhttp://172.17.0.3:8267\u001b[39m\u001b[22m\n"
     ]
    },
    {
     "data": {
      "text/plain": [
       "{'node_ip_address': '172.17.0.3',\n",
       " 'raylet_ip_address': '172.17.0.3',\n",
       " 'redis_address': '172.17.0.3:51858',\n",
       " 'object_store_address': '/tmp/ray/session_2020-11-29_03-08-57_170283_1377/sockets/plasma_store',\n",
       " 'raylet_socket_name': '/tmp/ray/session_2020-11-29_03-08-57_170283_1377/sockets/raylet',\n",
       " 'webui_url': '172.17.0.3:8267',\n",
       " 'session_dir': '/tmp/ray/session_2020-11-29_03-08-57_170283_1377',\n",
       " 'metrics_export_port': 57434,\n",
       " 'node_id': '8efb22da665d033a6628862fc077109b9e048a0e'}"
      ]
     },
     "execution_count": 6,
     "metadata": {},
     "output_type": "execute_result"
    }
   ],
   "source": [
    "ray.init(dashboard_host=\"0.0.0.0\")"
   ]
  },
  {
   "cell_type": "markdown",
   "metadata": {},
   "source": [
    "# Ray Tune Quickstart"
   ]
  },
  {
   "cell_type": "code",
   "execution_count": 7,
   "metadata": {},
   "outputs": [],
   "source": [
    "from ray import tune"
   ]
  },
  {
   "cell_type": "code",
   "execution_count": 8,
   "metadata": {},
   "outputs": [
    {
     "name": "stderr",
     "output_type": "stream",
     "text": [
      "2020-11-29 03:09:37,858\tWARNING function_runner.py:539 -- Function checkpointing is disabled. This may result in unexpected behavior when using checkpointing features or certain schedulers. To enable, set the train function arguments to be `func(config, checkpoint_dir=None)`.\n",
      "2020-11-29 03:09:37,876\tWARNING tune.py:401 -- Tune detects GPUs, but no trials are using GPUs. To enable trials to use GPUs, set tune.run(resources_per_trial={'gpu': 1}...) which allows Tune to expose 1 GPU to each trial. You can also override `Trainable.default_resource_request` if using the Trainable API.\n",
      "2020-11-29 03:09:37,883\tINFO logger.py:200 -- pip install 'ray[tune]' to see TensorBoard files.\n",
      "2020-11-29 03:09:37,884\tWARNING logger.py:342 -- Could not instantiate TBXLogger: No module named 'tensorboardX'.\n",
      "2020-11-29 03:09:37,885\tERROR syncer.py:63 -- Log sync requires rsync to be installed.\n"
     ]
    },
    {
     "data": {
      "text/html": [
       "== Status ==<br>Memory usage on this node: 12.0/31.4 GiB<br>Using FIFO scheduling algorithm.<br>Resources requested: 1/16 CPUs, 0/2 GPUs, 0.0/17.48 GiB heap, 0.0/6.01 GiB objects (0/1.0 accelerator_type:RTX)<br>Result logdir: /home/jovyan/ray_results/training_function_2020-11-29_03-09-37<br>Number of trials: 1/3 (1 RUNNING)<br><table>\n",
       "<thead>\n",
       "<tr><th>Trial name                   </th><th>status  </th><th>loc  </th><th style=\"text-align: right;\">  alpha</th><th style=\"text-align: right;\">  beta</th></tr>\n",
       "</thead>\n",
       "<tbody>\n",
       "<tr><td>training_function_50945_00000</td><td>RUNNING </td><td>     </td><td style=\"text-align: right;\">  0.001</td><td style=\"text-align: right;\">     1</td></tr>\n",
       "</tbody>\n",
       "</table><br><br>"
      ],
      "text/plain": [
       "<IPython.core.display.HTML object>"
      ]
     },
     "metadata": {},
     "output_type": "display_data"
    },
    {
     "name": "stdout",
     "output_type": "stream",
     "text": [
      "Result for training_function_50945_00000:\n",
      "  date: 2020-11-29_03-09-38\n",
      "  done: false\n",
      "  experiment_id: ad73b485badf4657ac391494cda02ff9\n",
      "  experiment_tag: 0_alpha=0.001,beta=1\n",
      "  hostname: 0a1efe644149\n",
      "  iterations_since_restore: 1\n",
      "  mean_loss: 10.1\n",
      "  neg_mean_loss: -10.1\n",
      "  node_ip: 172.17.0.3\n",
      "  pid: 2260\n",
      "  time_since_restore: 0.00016951560974121094\n",
      "  time_this_iter_s: 0.00016951560974121094\n",
      "  time_total_s: 0.00016951560974121094\n",
      "  timestamp: 1606619378\n",
      "  timesteps_since_restore: 0\n",
      "  training_iteration: 1\n",
      "  trial_id: '50945_00000'\n",
      "  \n",
      "Result for training_function_50945_00002:\n",
      "  date: 2020-11-29_03-09-38\n",
      "  done: false\n",
      "  experiment_id: da1e90311a684d03adf009a5642d1835\n",
      "  experiment_tag: 2_alpha=0.1,beta=3\n",
      "  hostname: 0a1efe644149\n",
      "  iterations_since_restore: 1\n",
      "  mean_loss: 10.3\n",
      "  neg_mean_loss: -10.3\n",
      "  node_ip: 172.17.0.3\n",
      "  pid: 2259\n",
      "  time_since_restore: 0.0002052783966064453\n",
      "  time_this_iter_s: 0.0002052783966064453\n",
      "  time_total_s: 0.0002052783966064453\n",
      "  timestamp: 1606619378\n",
      "  timesteps_since_restore: 0\n",
      "  training_iteration: 1\n",
      "  trial_id: '50945_00002'\n",
      "  \n",
      "Result for training_function_50945_00001:\n",
      "  date: 2020-11-29_03-09-38\n",
      "  done: false\n",
      "  experiment_id: a81da3c89c694268945fb520db990763\n",
      "  experiment_tag: 1_alpha=0.01,beta=3\n",
      "  hostname: 0a1efe644149\n",
      "  iterations_since_restore: 1\n",
      "  mean_loss: 10.3\n",
      "  neg_mean_loss: -10.3\n",
      "  node_ip: 172.17.0.3\n",
      "  pid: 2250\n",
      "  time_since_restore: 0.0002391338348388672\n",
      "  time_this_iter_s: 0.0002391338348388672\n",
      "  time_total_s: 0.0002391338348388672\n",
      "  timestamp: 1606619378\n",
      "  timesteps_since_restore: 0\n",
      "  training_iteration: 1\n",
      "  trial_id: '50945_00001'\n",
      "  \n"
     ]
    },
    {
     "data": {
      "text/html": [
       "== Status ==<br>Memory usage on this node: 12.2/31.4 GiB<br>Using FIFO scheduling algorithm.<br>Resources requested: 0/16 CPUs, 0/2 GPUs, 0.0/17.48 GiB heap, 0.0/6.01 GiB objects (0/1.0 accelerator_type:RTX)<br>Result logdir: /home/jovyan/ray_results/training_function_2020-11-29_03-09-37<br>Number of trials: 3/3 (3 TERMINATED)<br><table>\n",
       "<thead>\n",
       "<tr><th>Trial name                   </th><th>status    </th><th>loc  </th><th style=\"text-align: right;\">  alpha</th><th style=\"text-align: right;\">  beta</th><th style=\"text-align: right;\">    loss</th><th style=\"text-align: right;\">  iter</th><th style=\"text-align: right;\">  total time (s)</th><th style=\"text-align: right;\">  neg_mean_loss</th></tr>\n",
       "</thead>\n",
       "<tbody>\n",
       "<tr><td>training_function_50945_00000</td><td>TERMINATED</td><td>     </td><td style=\"text-align: right;\">  0.001</td><td style=\"text-align: right;\">     1</td><td style=\"text-align: right;\">10.091  </td><td style=\"text-align: right;\">    10</td><td style=\"text-align: right;\">       0.0454204</td><td style=\"text-align: right;\">      -10.091  </td></tr>\n",
       "<tr><td>training_function_50945_00001</td><td>TERMINATED</td><td>     </td><td style=\"text-align: right;\">  0.01 </td><td style=\"text-align: right;\">     3</td><td style=\"text-align: right;\">10.2108 </td><td style=\"text-align: right;\">    10</td><td style=\"text-align: right;\">       0.0565863</td><td style=\"text-align: right;\">      -10.2108 </td></tr>\n",
       "<tr><td>training_function_50945_00002</td><td>TERMINATED</td><td>     </td><td style=\"text-align: right;\">  0.1  </td><td style=\"text-align: right;\">     3</td><td style=\"text-align: right;\"> 9.47431</td><td style=\"text-align: right;\">    10</td><td style=\"text-align: right;\">       0.0564847</td><td style=\"text-align: right;\">       -9.47431</td></tr>\n",
       "</tbody>\n",
       "</table><br><br>"
      ],
      "text/plain": [
       "<IPython.core.display.HTML object>"
      ]
     },
     "metadata": {},
     "output_type": "display_data"
    },
    {
     "name": "stderr",
     "output_type": "stream",
     "text": [
      "2020-11-29 03:09:38,605\tINFO tune.py:439 -- Total run time: 0.75 seconds (0.71 seconds for the tuning loop).\n"
     ]
    },
    {
     "name": "stdout",
     "output_type": "stream",
     "text": [
      "Best config:  {'alpha': 0.1, 'beta': 3}\n"
     ]
    }
   ],
   "source": [
    "def objective(step, alpha, beta):\n",
    "    return (0.1 + alpha * step / 100)**(-1) + beta * 0.1\n",
    "\n",
    "\n",
    "def training_function(config):\n",
    "    # Hyperparameters\n",
    "    alpha, beta = config[\"alpha\"], config[\"beta\"]\n",
    "    for step in range(10):\n",
    "        # Iterative training function - can be any arbitrary training procedure.\n",
    "        intermediate_score = objective(step, alpha, beta)\n",
    "        # Feed the score back back to Tune.\n",
    "        tune.report(mean_loss=intermediate_score)\n",
    "\n",
    "\n",
    "analysis = tune.run(\n",
    "    training_function,\n",
    "    config={\n",
    "        \"alpha\": tune.grid_search([0.001, 0.01, 0.1]),\n",
    "        \"beta\": tune.choice([1, 2, 3])\n",
    "    })\n",
    "\n",
    "print(\"Best config: \", analysis.get_best_config(\n",
    "    metric=\"mean_loss\", mode=\"min\"))\n",
    "\n",
    "# Get a dataframe for analyzing trial results.\n",
    "df = analysis.results_df"
   ]
  },
  {
   "cell_type": "markdown",
   "metadata": {},
   "source": [
    "# Shutdown"
   ]
  },
  {
   "cell_type": "code",
   "execution_count": 9,
   "metadata": {},
   "outputs": [],
   "source": [
    "ray.shutdown()"
   ]
  }
 ],
 "metadata": {
  "kernelspec": {
   "display_name": "Python 3",
   "language": "python",
   "name": "python3"
  },
  "language_info": {
   "codemirror_mode": {
    "name": "ipython",
    "version": 3
   },
   "file_extension": ".py",
   "mimetype": "text/x-python",
   "name": "python",
   "nbconvert_exporter": "python",
   "pygments_lexer": "ipython3",
   "version": "3.8.5"
  }
 },
 "nbformat": 4,
 "nbformat_minor": 4
}
