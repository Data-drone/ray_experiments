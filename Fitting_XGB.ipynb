{
 "cells": [
  {
   "cell_type": "markdown",
   "metadata": {},
   "source": [
    "# XGB Test"
   ]
  },
  {
   "cell_type": "code",
   "execution_count": 25,
   "metadata": {},
   "outputs": [],
   "source": [
    "import pandas as pd\n",
    "import matplotlib.pyplot as plt\n",
    "%matplotlib inline"
   ]
  },
  {
   "cell_type": "code",
   "execution_count": 7,
   "metadata": {},
   "outputs": [],
   "source": [
    "# Load Data and Process\n",
    "train = pd.read_csv(\"data/train.csv\")\n",
    "target = train['target']\n",
    "ft_train = train.drop(['target', 'ID_code'], axis=1)"
   ]
  },
  {
   "cell_type": "markdown",
   "metadata": {},
   "source": [
    "# Data Splitting"
   ]
  },
  {
   "cell_type": "code",
   "execution_count": 4,
   "metadata": {},
   "outputs": [],
   "source": [
    "# preproc things\n",
    "from sklearn.preprocessing import StandardScaler\n",
    "from sklearn.model_selection import train_test_split"
   ]
  },
  {
   "cell_type": "code",
   "execution_count": 8,
   "metadata": {},
   "outputs": [],
   "source": [
    "X_scale = StandardScaler().fit_transform(ft_train)\n",
    "X_train, X_test, y_train, y_test = \\\n",
    "        train_test_split(X_scale, target, test_size=.4, \n",
    "                         random_state=42)"
   ]
  },
  {
   "cell_type": "markdown",
   "metadata": {},
   "source": [
    "# Fit XGB"
   ]
  },
  {
   "cell_type": "code",
   "execution_count": 11,
   "metadata": {},
   "outputs": [],
   "source": [
    "from xgboost import XGBClassifier"
   ]
  },
  {
   "cell_type": "code",
   "execution_count": 14,
   "metadata": {},
   "outputs": [],
   "source": [
    "# adding gpu bits\n",
    "param = {}\n",
    "param['gpu_id'] = 1\n",
    "param['tree_method'] = 'gpu_hist'"
   ]
  },
  {
   "cell_type": "code",
   "execution_count": 16,
   "metadata": {},
   "outputs": [],
   "source": [
    "model = XGBClassifier(**param)"
   ]
  },
  {
   "cell_type": "code",
   "execution_count": 18,
   "metadata": {
    "collapsed": true,
    "jupyter": {
     "outputs_hidden": true
    }
   },
   "outputs": [
    {
     "name": "stdout",
     "output_type": "stream",
     "text": [
      "[0]\tvalidation_0-auc:0.65047\tvalidation_1-auc:0.64026\n",
      "[1]\tvalidation_0-auc:0.69156\tvalidation_1-auc:0.67519\n",
      "[2]\tvalidation_0-auc:0.72088\tvalidation_1-auc:0.69392\n",
      "[3]\tvalidation_0-auc:0.74225\tvalidation_1-auc:0.71058\n",
      "[4]\tvalidation_0-auc:0.76206\tvalidation_1-auc:0.72601\n",
      "[5]\tvalidation_0-auc:0.77776\tvalidation_1-auc:0.73460\n",
      "[6]\tvalidation_0-auc:0.78652\tvalidation_1-auc:0.73745\n",
      "[7]\tvalidation_0-auc:0.79780\tvalidation_1-auc:0.74642\n",
      "[8]\tvalidation_0-auc:0.81185\tvalidation_1-auc:0.75368\n",
      "[9]\tvalidation_0-auc:0.81863\tvalidation_1-auc:0.75753\n",
      "[10]\tvalidation_0-auc:0.82945\tvalidation_1-auc:0.76410\n",
      "[11]\tvalidation_0-auc:0.83777\tvalidation_1-auc:0.76975\n",
      "[12]\tvalidation_0-auc:0.84684\tvalidation_1-auc:0.77367\n",
      "[13]\tvalidation_0-auc:0.85384\tvalidation_1-auc:0.77851\n",
      "[14]\tvalidation_0-auc:0.86191\tvalidation_1-auc:0.78345\n",
      "[15]\tvalidation_0-auc:0.86829\tvalidation_1-auc:0.78633\n",
      "[16]\tvalidation_0-auc:0.87287\tvalidation_1-auc:0.78969\n",
      "[17]\tvalidation_0-auc:0.87655\tvalidation_1-auc:0.79130\n",
      "[18]\tvalidation_0-auc:0.88229\tvalidation_1-auc:0.79578\n",
      "[19]\tvalidation_0-auc:0.88739\tvalidation_1-auc:0.79876\n",
      "[20]\tvalidation_0-auc:0.89198\tvalidation_1-auc:0.80139\n",
      "[21]\tvalidation_0-auc:0.89647\tvalidation_1-auc:0.80392\n",
      "[22]\tvalidation_0-auc:0.90004\tvalidation_1-auc:0.80586\n",
      "[23]\tvalidation_0-auc:0.90458\tvalidation_1-auc:0.80854\n",
      "[24]\tvalidation_0-auc:0.90852\tvalidation_1-auc:0.81118\n",
      "[25]\tvalidation_0-auc:0.91167\tvalidation_1-auc:0.81293\n",
      "[26]\tvalidation_0-auc:0.91418\tvalidation_1-auc:0.81412\n",
      "[27]\tvalidation_0-auc:0.91676\tvalidation_1-auc:0.81522\n",
      "[28]\tvalidation_0-auc:0.91947\tvalidation_1-auc:0.81696\n",
      "[29]\tvalidation_0-auc:0.92313\tvalidation_1-auc:0.81813\n",
      "[30]\tvalidation_0-auc:0.92543\tvalidation_1-auc:0.81949\n",
      "[31]\tvalidation_0-auc:0.92863\tvalidation_1-auc:0.82092\n",
      "[32]\tvalidation_0-auc:0.93087\tvalidation_1-auc:0.82240\n",
      "[33]\tvalidation_0-auc:0.93288\tvalidation_1-auc:0.82426\n",
      "[34]\tvalidation_0-auc:0.93536\tvalidation_1-auc:0.82496\n",
      "[35]\tvalidation_0-auc:0.93689\tvalidation_1-auc:0.82593\n",
      "[36]\tvalidation_0-auc:0.93824\tvalidation_1-auc:0.82668\n",
      "[37]\tvalidation_0-auc:0.93990\tvalidation_1-auc:0.82750\n",
      "[38]\tvalidation_0-auc:0.94144\tvalidation_1-auc:0.82860\n",
      "[39]\tvalidation_0-auc:0.94313\tvalidation_1-auc:0.82937\n",
      "[40]\tvalidation_0-auc:0.94495\tvalidation_1-auc:0.83002\n",
      "[41]\tvalidation_0-auc:0.94631\tvalidation_1-auc:0.83124\n",
      "[42]\tvalidation_0-auc:0.94804\tvalidation_1-auc:0.83201\n",
      "[43]\tvalidation_0-auc:0.94982\tvalidation_1-auc:0.83307\n",
      "[44]\tvalidation_0-auc:0.95114\tvalidation_1-auc:0.83360\n",
      "[45]\tvalidation_0-auc:0.95249\tvalidation_1-auc:0.83420\n",
      "[46]\tvalidation_0-auc:0.95385\tvalidation_1-auc:0.83491\n",
      "[47]\tvalidation_0-auc:0.95491\tvalidation_1-auc:0.83557\n",
      "[48]\tvalidation_0-auc:0.95649\tvalidation_1-auc:0.83618\n",
      "[49]\tvalidation_0-auc:0.95760\tvalidation_1-auc:0.83719\n",
      "[50]\tvalidation_0-auc:0.95884\tvalidation_1-auc:0.83790\n",
      "[51]\tvalidation_0-auc:0.96026\tvalidation_1-auc:0.83845\n",
      "[52]\tvalidation_0-auc:0.96116\tvalidation_1-auc:0.83883\n",
      "[53]\tvalidation_0-auc:0.96245\tvalidation_1-auc:0.83899\n",
      "[54]\tvalidation_0-auc:0.96381\tvalidation_1-auc:0.83959\n",
      "[55]\tvalidation_0-auc:0.96497\tvalidation_1-auc:0.83971\n",
      "[56]\tvalidation_0-auc:0.96582\tvalidation_1-auc:0.84051\n",
      "[57]\tvalidation_0-auc:0.96662\tvalidation_1-auc:0.84088\n",
      "[58]\tvalidation_0-auc:0.96739\tvalidation_1-auc:0.84143\n",
      "[59]\tvalidation_0-auc:0.96828\tvalidation_1-auc:0.84143\n",
      "[60]\tvalidation_0-auc:0.96921\tvalidation_1-auc:0.84172\n",
      "[61]\tvalidation_0-auc:0.96995\tvalidation_1-auc:0.84216\n",
      "[62]\tvalidation_0-auc:0.97069\tvalidation_1-auc:0.84263\n",
      "[63]\tvalidation_0-auc:0.97145\tvalidation_1-auc:0.84332\n",
      "[64]\tvalidation_0-auc:0.97226\tvalidation_1-auc:0.84366\n",
      "[65]\tvalidation_0-auc:0.97296\tvalidation_1-auc:0.84403\n",
      "[66]\tvalidation_0-auc:0.97357\tvalidation_1-auc:0.84457\n",
      "[67]\tvalidation_0-auc:0.97436\tvalidation_1-auc:0.84488\n",
      "[68]\tvalidation_0-auc:0.97496\tvalidation_1-auc:0.84500\n",
      "[69]\tvalidation_0-auc:0.97558\tvalidation_1-auc:0.84511\n",
      "[70]\tvalidation_0-auc:0.97629\tvalidation_1-auc:0.84571\n",
      "[71]\tvalidation_0-auc:0.97674\tvalidation_1-auc:0.84626\n",
      "[72]\tvalidation_0-auc:0.97739\tvalidation_1-auc:0.84676\n",
      "[73]\tvalidation_0-auc:0.97797\tvalidation_1-auc:0.84697\n",
      "[74]\tvalidation_0-auc:0.97847\tvalidation_1-auc:0.84737\n",
      "[75]\tvalidation_0-auc:0.97924\tvalidation_1-auc:0.84808\n",
      "[76]\tvalidation_0-auc:0.97982\tvalidation_1-auc:0.84867\n",
      "[77]\tvalidation_0-auc:0.98059\tvalidation_1-auc:0.84894\n",
      "[78]\tvalidation_0-auc:0.98106\tvalidation_1-auc:0.84932\n",
      "[79]\tvalidation_0-auc:0.98145\tvalidation_1-auc:0.84956\n",
      "[80]\tvalidation_0-auc:0.98173\tvalidation_1-auc:0.84995\n",
      "[81]\tvalidation_0-auc:0.98211\tvalidation_1-auc:0.85026\n",
      "[82]\tvalidation_0-auc:0.98244\tvalidation_1-auc:0.85052\n",
      "[83]\tvalidation_0-auc:0.98286\tvalidation_1-auc:0.85049\n",
      "[84]\tvalidation_0-auc:0.98333\tvalidation_1-auc:0.85068\n",
      "[85]\tvalidation_0-auc:0.98367\tvalidation_1-auc:0.85070\n",
      "[86]\tvalidation_0-auc:0.98409\tvalidation_1-auc:0.85095\n",
      "[87]\tvalidation_0-auc:0.98460\tvalidation_1-auc:0.85126\n",
      "[88]\tvalidation_0-auc:0.98499\tvalidation_1-auc:0.85159\n",
      "[89]\tvalidation_0-auc:0.98536\tvalidation_1-auc:0.85180\n",
      "[90]\tvalidation_0-auc:0.98564\tvalidation_1-auc:0.85216\n",
      "[91]\tvalidation_0-auc:0.98607\tvalidation_1-auc:0.85217\n",
      "[92]\tvalidation_0-auc:0.98633\tvalidation_1-auc:0.85257\n",
      "[93]\tvalidation_0-auc:0.98668\tvalidation_1-auc:0.85274\n",
      "[94]\tvalidation_0-auc:0.98695\tvalidation_1-auc:0.85288\n",
      "[95]\tvalidation_0-auc:0.98741\tvalidation_1-auc:0.85317\n",
      "[96]\tvalidation_0-auc:0.98781\tvalidation_1-auc:0.85327\n",
      "[97]\tvalidation_0-auc:0.98805\tvalidation_1-auc:0.85334\n",
      "[98]\tvalidation_0-auc:0.98840\tvalidation_1-auc:0.85357\n",
      "[99]\tvalidation_0-auc:0.98872\tvalidation_1-auc:0.85375\n"
     ]
    },
    {
     "data": {
      "text/plain": [
       "XGBClassifier(base_score=0.5, booster='gbtree', colsample_bylevel=1,\n",
       "              colsample_bynode=1, colsample_bytree=1, gamma=0, gpu_id=1,\n",
       "              importance_type='gain', interaction_constraints='',\n",
       "              learning_rate=0.300000012, max_delta_step=0, max_depth=6,\n",
       "              min_child_weight=1, missing=nan,\n",
       "              monotone_constraints='(0,0,0,0,0,0,0,0,0,0,0,0,0,0,0,0,0,0,0,0,0,0,0,0,0,0,0,0,0,0,0,0,0,0,0,...,0,0,0,0,0,0,0,0,0,0,0,0,0,0,0,0,0,0,0,0,0,0,0,0,0,0,0,0,0,0,0,0,0,0,0,0,0,0,0,0,0,0,0,0,0,0,0,0,0,0,0,0,0,0,0,0,0,0,0,0,0,0,0,0,0,0,0,0,0,0,0,0,0,0,0,0,0,0,0,0,0,0,0,0,0)',\n",
       "              n_estimators=100, n_jobs=0, num_parallel_tree=1, random_state=0,\n",
       "              reg_alpha=0, reg_lambda=1, scale_pos_weight=1, subsample=1,\n",
       "              tree_method='gpu_hist', validate_parameters=1, verbosity=None)"
      ]
     },
     "execution_count": 18,
     "metadata": {},
     "output_type": "execute_result"
    }
   ],
   "source": [
    "model.fit(X_train, y_train,\n",
    "          eval_set=[(X_train, y_train), (X_test, y_test)],\n",
    "          eval_metric='auc',\n",
    "          verbose=True)"
   ]
  },
  {
   "cell_type": "code",
   "execution_count": 20,
   "metadata": {},
   "outputs": [],
   "source": [
    "y_pred = model.predict(X_test)"
   ]
  },
  {
   "cell_type": "markdown",
   "metadata": {},
   "source": [
    "# Confusion Matrix"
   ]
  },
  {
   "cell_type": "code",
   "execution_count": 23,
   "metadata": {},
   "outputs": [],
   "source": [
    "from sklearn.metrics import plot_confusion_matrix"
   ]
  },
  {
   "cell_type": "code",
   "execution_count": 21,
   "metadata": {},
   "outputs": [],
   "source": [
    "class_names = ['no_transact', 'transact']"
   ]
  },
  {
   "cell_type": "code",
   "execution_count": 26,
   "metadata": {},
   "outputs": [
    {
     "data": {
      "text/plain": [
       "<sklearn.metrics._plot.confusion_matrix.ConfusionMatrixDisplay at 0x7fc8a0418220>"
      ]
     },
     "execution_count": 26,
     "metadata": {},
     "output_type": "execute_result"
    },
    {
     "data": {
      "image/png": "[encoded data removed]",
      "text/plain": [
       "<Figure size 432x288 with 2 Axes>"
      ]
     },
     "metadata": {
      "needs_background": "light"
     },
     "output_type": "display_data"
    }
   ],
   "source": [
    "plot_confusion_matrix(model, X_test, y_test,\n",
    "                     display_labels=class_names,\n",
    "                     cmap=plt.cm.Blues)"
   ]
  },
  {
   "cell_type": "markdown",
   "metadata": {},
   "source": [
    "# Hyperparam Tuning XGB"
   ]
  },
  {
   "cell_type": "code",
   "execution_count": 29,
   "metadata": {},
   "outputs": [],
   "source": [
    "from tune_sklearn import TuneGridSearchCV"
   ]
  },
  {
   "cell_type": "code",
   "execution_count": 27,
   "metadata": {},
   "outputs": [],
   "source": [
    "xgb_params = {\n",
    "    \"eta\": (0.01, 0.2),\n",
    "    \"gamma\": (0, 20),\n",
    "    \"max_depth\": (3, 10),\n",
    "    \"min_child_weight\": (1, 10)\n",
    "}"
   ]
  },
  {
   "cell_type": "code",
   "execution_count": null,
   "metadata": {},
   "outputs": [],
   "source": [
    "params['verbose']"
   ]
  },
  {
   "cell_type": "code",
   "execution_count": 30,
   "metadata": {},
   "outputs": [],
   "source": [
    "xgb_model = XGBClassifier(**param)\n",
    "xgb_search = TuneGridSearchCV(\n",
    "    xgb_model,\n",
    "    xgb_params,\n",
    "    n_jobs=4\n",
    ")"
   ]
  },
  {
   "cell_type": "code",
   "execution_count": null,
   "metadata": {},
   "outputs": [],
   "source": [
    "xgb_search.fit(X_train, y_train)"
   ]
  },
  {
   "cell_type": "code",
   "execution_count": 39,
   "metadata": {},
   "outputs": [
    {
     "name": "stdout",
     "output_type": "stream",
     "text": [
      "{'eta': 0.01, 'gamma': 0, 'max_depth': 3, 'min_child_weight': 1}\n"
     ]
    }
   ],
   "source": [
    "print(xgb_search.best_params_) #.cv_results_"
   ]
  }
 ],
 "metadata": {
  "kernelspec": {
   "display_name": "Python 3",
   "language": "python",
   "name": "python3"
  },
  "language_info": {
   "codemirror_mode": {
    "name": "ipython",
    "version": 3
   },
   "file_extension": ".py",
   "mimetype": "text/x-python",
   "name": "python",
   "nbconvert_exporter": "python",
   "pygments_lexer": "ipython3",
   "version": "3.8.5"
  }
 },
 "nbformat": 4,
 "nbformat_minor": 4
}
