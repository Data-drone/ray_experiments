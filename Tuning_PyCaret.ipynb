{
 "cells": [
  {
   "cell_type": "markdown",
   "metadata": {},
   "source": [
    "# PyCaret Testing"
   ]
  },
  {
   "cell_type": "markdown",
   "metadata": {},
   "source": [
    "Testing model creation with PyCaret package"
   ]
  },
  {
   "cell_type": "code",
   "execution_count": 1,
   "metadata": {},
   "outputs": [],
   "source": [
    "import pandas as pd"
   ]
  },
  {
   "cell_type": "code",
   "execution_count": 2,
   "metadata": {},
   "outputs": [],
   "source": [
    "# Load Data\n",
    "train = pd.read_feather(\"/home/jovyan/work/ray_experiments/data/train_feat_1_baseline.feather\")"
   ]
  },
  {
   "cell_type": "code",
   "execution_count": 3,
   "metadata": {},
   "outputs": [
    {
     "data": {
      "text/plain": [
       "Index(['ID_code', 'target', 'var_0', 'var_1', 'var_2', 'var_3', 'var_4',\n",
       "       'var_5', 'var_6', 'var_7',\n",
       "       ...\n",
       "       'count_var_195', 'in_test_var_195', 'count_var_196', 'in_test_var_196',\n",
       "       'count_var_197', 'in_test_var_197', 'count_var_198', 'in_test_var_198',\n",
       "       'count_var_199', 'in_test_var_199'],\n",
       "      dtype='object', length=602)"
      ]
     },
     "execution_count": 3,
     "metadata": {},
     "output_type": "execute_result"
    }
   ],
   "source": [
    "train.columns"
   ]
  },
  {
   "cell_type": "code",
   "execution_count": 42,
   "metadata": {},
   "outputs": [],
   "source": [
    "micro_test = train[train.columns[1:50]]"
   ]
  },
  {
   "cell_type": "code",
   "execution_count": 43,
   "metadata": {},
   "outputs": [
    {
     "data": {
      "text/plain": [
       "Index(['target', 'var_0', 'var_1', 'var_2', 'var_3', 'var_4', 'var_5', 'var_6',\n",
       "       'var_7', 'var_8', 'var_9', 'var_10', 'var_11', 'var_12', 'var_13',\n",
       "       'var_14', 'var_15', 'var_16', 'var_17', 'var_18', 'var_19', 'var_20',\n",
       "       'var_21', 'var_22', 'var_23', 'var_24', 'var_25', 'var_26', 'var_27',\n",
       "       'var_28', 'var_29', 'var_30', 'var_31', 'var_32', 'var_33', 'var_34',\n",
       "       'var_35', 'var_36', 'var_37', 'var_38', 'var_39', 'var_40', 'var_41',\n",
       "       'var_42', 'var_43', 'var_44', 'var_45', 'var_46', 'var_47'],\n",
       "      dtype='object')"
      ]
     },
     "execution_count": 43,
     "metadata": {},
     "output_type": "execute_result"
    }
   ],
   "source": [
    "micro_test.columns"
   ]
  },
  {
   "cell_type": "code",
   "execution_count": 44,
   "metadata": {},
   "outputs": [
    {
     "data": {
      "text/plain": [
       "(200000, 49)"
      ]
     },
     "execution_count": 44,
     "metadata": {},
     "output_type": "execute_result"
    }
   ],
   "source": [
    "micro_test.shape"
   ]
  },
  {
   "cell_type": "markdown",
   "metadata": {},
   "source": [
    "Building PyCaret Experiment"
   ]
  },
  {
   "cell_type": "code",
   "execution_count": 45,
   "metadata": {},
   "outputs": [],
   "source": [
    "from pycaret.classification import *"
   ]
  },
  {
   "cell_type": "code",
   "execution_count": 46,
   "metadata": {},
   "outputs": [
    {
     "data": {
      "text/html": [
       "<style  type=\"text/css\" >\n",
       "#T_595be444_429d_11eb_93ff_0242ac110003row18_col1{\n",
       "            background-color:  lightgreen;\n",
       "        }</style><table id=\"T_595be444_429d_11eb_93ff_0242ac110003\" ><thead>    <tr>        <th class=\"blank level0\" ></th>        <th class=\"col_heading level0 col0\" >Description</th>        <th class=\"col_heading level0 col1\" >Value</th>    </tr></thead><tbody>\n",
       "                <tr>\n",
       "                        <th id=\"T_595be444_429d_11eb_93ff_0242ac110003level0_row0\" class=\"row_heading level0 row0\" >0</th>\n",
       "                        <td id=\"T_595be444_429d_11eb_93ff_0242ac110003row0_col0\" class=\"data row0 col0\" >session_id</td>\n",
       "                        <td id=\"T_595be444_429d_11eb_93ff_0242ac110003row0_col1\" class=\"data row0 col1\" >123</td>\n",
       "            </tr>\n",
       "            <tr>\n",
       "                        <th id=\"T_595be444_429d_11eb_93ff_0242ac110003level0_row1\" class=\"row_heading level0 row1\" >1</th>\n",
       "                        <td id=\"T_595be444_429d_11eb_93ff_0242ac110003row1_col0\" class=\"data row1 col0\" >Target</td>\n",
       "                        <td id=\"T_595be444_429d_11eb_93ff_0242ac110003row1_col1\" class=\"data row1 col1\" >target</td>\n",
       "            </tr>\n",
       "            <tr>\n",
       "                        <th id=\"T_595be444_429d_11eb_93ff_0242ac110003level0_row2\" class=\"row_heading level0 row2\" >2</th>\n",
       "                        <td id=\"T_595be444_429d_11eb_93ff_0242ac110003row2_col0\" class=\"data row2 col0\" >Target Type</td>\n",
       "                        <td id=\"T_595be444_429d_11eb_93ff_0242ac110003row2_col1\" class=\"data row2 col1\" >Binary</td>\n",
       "            </tr>\n",
       "            <tr>\n",
       "                        <th id=\"T_595be444_429d_11eb_93ff_0242ac110003level0_row3\" class=\"row_heading level0 row3\" >3</th>\n",
       "                        <td id=\"T_595be444_429d_11eb_93ff_0242ac110003row3_col0\" class=\"data row3 col0\" >Label Encoded</td>\n",
       "                        <td id=\"T_595be444_429d_11eb_93ff_0242ac110003row3_col1\" class=\"data row3 col1\" >0: 0, 1: 1</td>\n",
       "            </tr>\n",
       "            <tr>\n",
       "                        <th id=\"T_595be444_429d_11eb_93ff_0242ac110003level0_row4\" class=\"row_heading level0 row4\" >4</th>\n",
       "                        <td id=\"T_595be444_429d_11eb_93ff_0242ac110003row4_col0\" class=\"data row4 col0\" >Original Data</td>\n",
       "                        <td id=\"T_595be444_429d_11eb_93ff_0242ac110003row4_col1\" class=\"data row4 col1\" >(200000, 49)</td>\n",
       "            </tr>\n",
       "            <tr>\n",
       "                        <th id=\"T_595be444_429d_11eb_93ff_0242ac110003level0_row5\" class=\"row_heading level0 row5\" >5</th>\n",
       "                        <td id=\"T_595be444_429d_11eb_93ff_0242ac110003row5_col0\" class=\"data row5 col0\" >Missing Values</td>\n",
       "                        <td id=\"T_595be444_429d_11eb_93ff_0242ac110003row5_col1\" class=\"data row5 col1\" >False</td>\n",
       "            </tr>\n",
       "            <tr>\n",
       "                        <th id=\"T_595be444_429d_11eb_93ff_0242ac110003level0_row6\" class=\"row_heading level0 row6\" >6</th>\n",
       "                        <td id=\"T_595be444_429d_11eb_93ff_0242ac110003row6_col0\" class=\"data row6 col0\" >Numeric Features</td>\n",
       "                        <td id=\"T_595be444_429d_11eb_93ff_0242ac110003row6_col1\" class=\"data row6 col1\" >48</td>\n",
       "            </tr>\n",
       "            <tr>\n",
       "                        <th id=\"T_595be444_429d_11eb_93ff_0242ac110003level0_row7\" class=\"row_heading level0 row7\" >7</th>\n",
       "                        <td id=\"T_595be444_429d_11eb_93ff_0242ac110003row7_col0\" class=\"data row7 col0\" >Categorical Features</td>\n",
       "                        <td id=\"T_595be444_429d_11eb_93ff_0242ac110003row7_col1\" class=\"data row7 col1\" >0</td>\n",
       "            </tr>\n",
       "            <tr>\n",
       "                        <th id=\"T_595be444_429d_11eb_93ff_0242ac110003level0_row8\" class=\"row_heading level0 row8\" >8</th>\n",
       "                        <td id=\"T_595be444_429d_11eb_93ff_0242ac110003row8_col0\" class=\"data row8 col0\" >Ordinal Features</td>\n",
       "                        <td id=\"T_595be444_429d_11eb_93ff_0242ac110003row8_col1\" class=\"data row8 col1\" >False</td>\n",
       "            </tr>\n",
       "            <tr>\n",
       "                        <th id=\"T_595be444_429d_11eb_93ff_0242ac110003level0_row9\" class=\"row_heading level0 row9\" >9</th>\n",
       "                        <td id=\"T_595be444_429d_11eb_93ff_0242ac110003row9_col0\" class=\"data row9 col0\" >High Cardinality Features</td>\n",
       "                        <td id=\"T_595be444_429d_11eb_93ff_0242ac110003row9_col1\" class=\"data row9 col1\" >False</td>\n",
       "            </tr>\n",
       "            <tr>\n",
       "                        <th id=\"T_595be444_429d_11eb_93ff_0242ac110003level0_row10\" class=\"row_heading level0 row10\" >10</th>\n",
       "                        <td id=\"T_595be444_429d_11eb_93ff_0242ac110003row10_col0\" class=\"data row10 col0\" >High Cardinality Method</td>\n",
       "                        <td id=\"T_595be444_429d_11eb_93ff_0242ac110003row10_col1\" class=\"data row10 col1\" >None</td>\n",
       "            </tr>\n",
       "            <tr>\n",
       "                        <th id=\"T_595be444_429d_11eb_93ff_0242ac110003level0_row11\" class=\"row_heading level0 row11\" >11</th>\n",
       "                        <td id=\"T_595be444_429d_11eb_93ff_0242ac110003row11_col0\" class=\"data row11 col0\" >Transformed Train Set</td>\n",
       "                        <td id=\"T_595be444_429d_11eb_93ff_0242ac110003row11_col1\" class=\"data row11 col1\" >(139999, 48)</td>\n",
       "            </tr>\n",
       "            <tr>\n",
       "                        <th id=\"T_595be444_429d_11eb_93ff_0242ac110003level0_row12\" class=\"row_heading level0 row12\" >12</th>\n",
       "                        <td id=\"T_595be444_429d_11eb_93ff_0242ac110003row12_col0\" class=\"data row12 col0\" >Transformed Test Set</td>\n",
       "                        <td id=\"T_595be444_429d_11eb_93ff_0242ac110003row12_col1\" class=\"data row12 col1\" >(60001, 48)</td>\n",
       "            </tr>\n",
       "            <tr>\n",
       "                        <th id=\"T_595be444_429d_11eb_93ff_0242ac110003level0_row13\" class=\"row_heading level0 row13\" >13</th>\n",
       "                        <td id=\"T_595be444_429d_11eb_93ff_0242ac110003row13_col0\" class=\"data row13 col0\" >Shuffle Train-Test</td>\n",
       "                        <td id=\"T_595be444_429d_11eb_93ff_0242ac110003row13_col1\" class=\"data row13 col1\" >True</td>\n",
       "            </tr>\n",
       "            <tr>\n",
       "                        <th id=\"T_595be444_429d_11eb_93ff_0242ac110003level0_row14\" class=\"row_heading level0 row14\" >14</th>\n",
       "                        <td id=\"T_595be444_429d_11eb_93ff_0242ac110003row14_col0\" class=\"data row14 col0\" >Stratify Train-Test</td>\n",
       "                        <td id=\"T_595be444_429d_11eb_93ff_0242ac110003row14_col1\" class=\"data row14 col1\" >False</td>\n",
       "            </tr>\n",
       "            <tr>\n",
       "                        <th id=\"T_595be444_429d_11eb_93ff_0242ac110003level0_row15\" class=\"row_heading level0 row15\" >15</th>\n",
       "                        <td id=\"T_595be444_429d_11eb_93ff_0242ac110003row15_col0\" class=\"data row15 col0\" >Fold Generator</td>\n",
       "                        <td id=\"T_595be444_429d_11eb_93ff_0242ac110003row15_col1\" class=\"data row15 col1\" >StratifiedKFold</td>\n",
       "            </tr>\n",
       "            <tr>\n",
       "                        <th id=\"T_595be444_429d_11eb_93ff_0242ac110003level0_row16\" class=\"row_heading level0 row16\" >16</th>\n",
       "                        <td id=\"T_595be444_429d_11eb_93ff_0242ac110003row16_col0\" class=\"data row16 col0\" >Fold Number</td>\n",
       "                        <td id=\"T_595be444_429d_11eb_93ff_0242ac110003row16_col1\" class=\"data row16 col1\" >10</td>\n",
       "            </tr>\n",
       "            <tr>\n",
       "                        <th id=\"T_595be444_429d_11eb_93ff_0242ac110003level0_row17\" class=\"row_heading level0 row17\" >17</th>\n",
       "                        <td id=\"T_595be444_429d_11eb_93ff_0242ac110003row17_col0\" class=\"data row17 col0\" >CPU Jobs</td>\n",
       "                        <td id=\"T_595be444_429d_11eb_93ff_0242ac110003row17_col1\" class=\"data row17 col1\" >-1</td>\n",
       "            </tr>\n",
       "            <tr>\n",
       "                        <th id=\"T_595be444_429d_11eb_93ff_0242ac110003level0_row18\" class=\"row_heading level0 row18\" >18</th>\n",
       "                        <td id=\"T_595be444_429d_11eb_93ff_0242ac110003row18_col0\" class=\"data row18 col0\" >Use GPU</td>\n",
       "                        <td id=\"T_595be444_429d_11eb_93ff_0242ac110003row18_col1\" class=\"data row18 col1\" >True</td>\n",
       "            </tr>\n",
       "            <tr>\n",
       "                        <th id=\"T_595be444_429d_11eb_93ff_0242ac110003level0_row19\" class=\"row_heading level0 row19\" >19</th>\n",
       "                        <td id=\"T_595be444_429d_11eb_93ff_0242ac110003row19_col0\" class=\"data row19 col0\" >Log Experiment</td>\n",
       "                        <td id=\"T_595be444_429d_11eb_93ff_0242ac110003row19_col1\" class=\"data row19 col1\" >False</td>\n",
       "            </tr>\n",
       "            <tr>\n",
       "                        <th id=\"T_595be444_429d_11eb_93ff_0242ac110003level0_row20\" class=\"row_heading level0 row20\" >20</th>\n",
       "                        <td id=\"T_595be444_429d_11eb_93ff_0242ac110003row20_col0\" class=\"data row20 col0\" >Experiment Name</td>\n",
       "                        <td id=\"T_595be444_429d_11eb_93ff_0242ac110003row20_col1\" class=\"data row20 col1\" >clf-default-name</td>\n",
       "            </tr>\n",
       "            <tr>\n",
       "                        <th id=\"T_595be444_429d_11eb_93ff_0242ac110003level0_row21\" class=\"row_heading level0 row21\" >21</th>\n",
       "                        <td id=\"T_595be444_429d_11eb_93ff_0242ac110003row21_col0\" class=\"data row21 col0\" >USI</td>\n",
       "                        <td id=\"T_595be444_429d_11eb_93ff_0242ac110003row21_col1\" class=\"data row21 col1\" >d1c8</td>\n",
       "            </tr>\n",
       "            <tr>\n",
       "                        <th id=\"T_595be444_429d_11eb_93ff_0242ac110003level0_row22\" class=\"row_heading level0 row22\" >22</th>\n",
       "                        <td id=\"T_595be444_429d_11eb_93ff_0242ac110003row22_col0\" class=\"data row22 col0\" >Imputation Type</td>\n",
       "                        <td id=\"T_595be444_429d_11eb_93ff_0242ac110003row22_col1\" class=\"data row22 col1\" >simple</td>\n",
       "            </tr>\n",
       "            <tr>\n",
       "                        <th id=\"T_595be444_429d_11eb_93ff_0242ac110003level0_row23\" class=\"row_heading level0 row23\" >23</th>\n",
       "                        <td id=\"T_595be444_429d_11eb_93ff_0242ac110003row23_col0\" class=\"data row23 col0\" >Iterative Imputation Iteration</td>\n",
       "                        <td id=\"T_595be444_429d_11eb_93ff_0242ac110003row23_col1\" class=\"data row23 col1\" >None</td>\n",
       "            </tr>\n",
       "            <tr>\n",
       "                        <th id=\"T_595be444_429d_11eb_93ff_0242ac110003level0_row24\" class=\"row_heading level0 row24\" >24</th>\n",
       "                        <td id=\"T_595be444_429d_11eb_93ff_0242ac110003row24_col0\" class=\"data row24 col0\" >Numeric Imputer</td>\n",
       "                        <td id=\"T_595be444_429d_11eb_93ff_0242ac110003row24_col1\" class=\"data row24 col1\" >mean</td>\n",
       "            </tr>\n",
       "            <tr>\n",
       "                        <th id=\"T_595be444_429d_11eb_93ff_0242ac110003level0_row25\" class=\"row_heading level0 row25\" >25</th>\n",
       "                        <td id=\"T_595be444_429d_11eb_93ff_0242ac110003row25_col0\" class=\"data row25 col0\" >Iterative Imputation Numeric Model</td>\n",
       "                        <td id=\"T_595be444_429d_11eb_93ff_0242ac110003row25_col1\" class=\"data row25 col1\" >None</td>\n",
       "            </tr>\n",
       "            <tr>\n",
       "                        <th id=\"T_595be444_429d_11eb_93ff_0242ac110003level0_row26\" class=\"row_heading level0 row26\" >26</th>\n",
       "                        <td id=\"T_595be444_429d_11eb_93ff_0242ac110003row26_col0\" class=\"data row26 col0\" >Categorical Imputer</td>\n",
       "                        <td id=\"T_595be444_429d_11eb_93ff_0242ac110003row26_col1\" class=\"data row26 col1\" >constant</td>\n",
       "            </tr>\n",
       "            <tr>\n",
       "                        <th id=\"T_595be444_429d_11eb_93ff_0242ac110003level0_row27\" class=\"row_heading level0 row27\" >27</th>\n",
       "                        <td id=\"T_595be444_429d_11eb_93ff_0242ac110003row27_col0\" class=\"data row27 col0\" >Iterative Imputation Categorical Model</td>\n",
       "                        <td id=\"T_595be444_429d_11eb_93ff_0242ac110003row27_col1\" class=\"data row27 col1\" >None</td>\n",
       "            </tr>\n",
       "            <tr>\n",
       "                        <th id=\"T_595be444_429d_11eb_93ff_0242ac110003level0_row28\" class=\"row_heading level0 row28\" >28</th>\n",
       "                        <td id=\"T_595be444_429d_11eb_93ff_0242ac110003row28_col0\" class=\"data row28 col0\" >Unknown Categoricals Handling</td>\n",
       "                        <td id=\"T_595be444_429d_11eb_93ff_0242ac110003row28_col1\" class=\"data row28 col1\" >least_frequent</td>\n",
       "            </tr>\n",
       "            <tr>\n",
       "                        <th id=\"T_595be444_429d_11eb_93ff_0242ac110003level0_row29\" class=\"row_heading level0 row29\" >29</th>\n",
       "                        <td id=\"T_595be444_429d_11eb_93ff_0242ac110003row29_col0\" class=\"data row29 col0\" >Normalize</td>\n",
       "                        <td id=\"T_595be444_429d_11eb_93ff_0242ac110003row29_col1\" class=\"data row29 col1\" >False</td>\n",
       "            </tr>\n",
       "            <tr>\n",
       "                        <th id=\"T_595be444_429d_11eb_93ff_0242ac110003level0_row30\" class=\"row_heading level0 row30\" >30</th>\n",
       "                        <td id=\"T_595be444_429d_11eb_93ff_0242ac110003row30_col0\" class=\"data row30 col0\" >Normalize Method</td>\n",
       "                        <td id=\"T_595be444_429d_11eb_93ff_0242ac110003row30_col1\" class=\"data row30 col1\" >None</td>\n",
       "            </tr>\n",
       "            <tr>\n",
       "                        <th id=\"T_595be444_429d_11eb_93ff_0242ac110003level0_row31\" class=\"row_heading level0 row31\" >31</th>\n",
       "                        <td id=\"T_595be444_429d_11eb_93ff_0242ac110003row31_col0\" class=\"data row31 col0\" >Transformation</td>\n",
       "                        <td id=\"T_595be444_429d_11eb_93ff_0242ac110003row31_col1\" class=\"data row31 col1\" >False</td>\n",
       "            </tr>\n",
       "            <tr>\n",
       "                        <th id=\"T_595be444_429d_11eb_93ff_0242ac110003level0_row32\" class=\"row_heading level0 row32\" >32</th>\n",
       "                        <td id=\"T_595be444_429d_11eb_93ff_0242ac110003row32_col0\" class=\"data row32 col0\" >Transformation Method</td>\n",
       "                        <td id=\"T_595be444_429d_11eb_93ff_0242ac110003row32_col1\" class=\"data row32 col1\" >None</td>\n",
       "            </tr>\n",
       "            <tr>\n",
       "                        <th id=\"T_595be444_429d_11eb_93ff_0242ac110003level0_row33\" class=\"row_heading level0 row33\" >33</th>\n",
       "                        <td id=\"T_595be444_429d_11eb_93ff_0242ac110003row33_col0\" class=\"data row33 col0\" >PCA</td>\n",
       "                        <td id=\"T_595be444_429d_11eb_93ff_0242ac110003row33_col1\" class=\"data row33 col1\" >False</td>\n",
       "            </tr>\n",
       "            <tr>\n",
       "                        <th id=\"T_595be444_429d_11eb_93ff_0242ac110003level0_row34\" class=\"row_heading level0 row34\" >34</th>\n",
       "                        <td id=\"T_595be444_429d_11eb_93ff_0242ac110003row34_col0\" class=\"data row34 col0\" >PCA Method</td>\n",
       "                        <td id=\"T_595be444_429d_11eb_93ff_0242ac110003row34_col1\" class=\"data row34 col1\" >None</td>\n",
       "            </tr>\n",
       "            <tr>\n",
       "                        <th id=\"T_595be444_429d_11eb_93ff_0242ac110003level0_row35\" class=\"row_heading level0 row35\" >35</th>\n",
       "                        <td id=\"T_595be444_429d_11eb_93ff_0242ac110003row35_col0\" class=\"data row35 col0\" >PCA Components</td>\n",
       "                        <td id=\"T_595be444_429d_11eb_93ff_0242ac110003row35_col1\" class=\"data row35 col1\" >None</td>\n",
       "            </tr>\n",
       "            <tr>\n",
       "                        <th id=\"T_595be444_429d_11eb_93ff_0242ac110003level0_row36\" class=\"row_heading level0 row36\" >36</th>\n",
       "                        <td id=\"T_595be444_429d_11eb_93ff_0242ac110003row36_col0\" class=\"data row36 col0\" >Ignore Low Variance</td>\n",
       "                        <td id=\"T_595be444_429d_11eb_93ff_0242ac110003row36_col1\" class=\"data row36 col1\" >False</td>\n",
       "            </tr>\n",
       "            <tr>\n",
       "                        <th id=\"T_595be444_429d_11eb_93ff_0242ac110003level0_row37\" class=\"row_heading level0 row37\" >37</th>\n",
       "                        <td id=\"T_595be444_429d_11eb_93ff_0242ac110003row37_col0\" class=\"data row37 col0\" >Combine Rare Levels</td>\n",
       "                        <td id=\"T_595be444_429d_11eb_93ff_0242ac110003row37_col1\" class=\"data row37 col1\" >False</td>\n",
       "            </tr>\n",
       "            <tr>\n",
       "                        <th id=\"T_595be444_429d_11eb_93ff_0242ac110003level0_row38\" class=\"row_heading level0 row38\" >38</th>\n",
       "                        <td id=\"T_595be444_429d_11eb_93ff_0242ac110003row38_col0\" class=\"data row38 col0\" >Rare Level Threshold</td>\n",
       "                        <td id=\"T_595be444_429d_11eb_93ff_0242ac110003row38_col1\" class=\"data row38 col1\" >None</td>\n",
       "            </tr>\n",
       "            <tr>\n",
       "                        <th id=\"T_595be444_429d_11eb_93ff_0242ac110003level0_row39\" class=\"row_heading level0 row39\" >39</th>\n",
       "                        <td id=\"T_595be444_429d_11eb_93ff_0242ac110003row39_col0\" class=\"data row39 col0\" >Numeric Binning</td>\n",
       "                        <td id=\"T_595be444_429d_11eb_93ff_0242ac110003row39_col1\" class=\"data row39 col1\" >False</td>\n",
       "            </tr>\n",
       "            <tr>\n",
       "                        <th id=\"T_595be444_429d_11eb_93ff_0242ac110003level0_row40\" class=\"row_heading level0 row40\" >40</th>\n",
       "                        <td id=\"T_595be444_429d_11eb_93ff_0242ac110003row40_col0\" class=\"data row40 col0\" >Remove Outliers</td>\n",
       "                        <td id=\"T_595be444_429d_11eb_93ff_0242ac110003row40_col1\" class=\"data row40 col1\" >False</td>\n",
       "            </tr>\n",
       "            <tr>\n",
       "                        <th id=\"T_595be444_429d_11eb_93ff_0242ac110003level0_row41\" class=\"row_heading level0 row41\" >41</th>\n",
       "                        <td id=\"T_595be444_429d_11eb_93ff_0242ac110003row41_col0\" class=\"data row41 col0\" >Outliers Threshold</td>\n",
       "                        <td id=\"T_595be444_429d_11eb_93ff_0242ac110003row41_col1\" class=\"data row41 col1\" >None</td>\n",
       "            </tr>\n",
       "            <tr>\n",
       "                        <th id=\"T_595be444_429d_11eb_93ff_0242ac110003level0_row42\" class=\"row_heading level0 row42\" >42</th>\n",
       "                        <td id=\"T_595be444_429d_11eb_93ff_0242ac110003row42_col0\" class=\"data row42 col0\" >Remove Multicollinearity</td>\n",
       "                        <td id=\"T_595be444_429d_11eb_93ff_0242ac110003row42_col1\" class=\"data row42 col1\" >False</td>\n",
       "            </tr>\n",
       "            <tr>\n",
       "                        <th id=\"T_595be444_429d_11eb_93ff_0242ac110003level0_row43\" class=\"row_heading level0 row43\" >43</th>\n",
       "                        <td id=\"T_595be444_429d_11eb_93ff_0242ac110003row43_col0\" class=\"data row43 col0\" >Multicollinearity Threshold</td>\n",
       "                        <td id=\"T_595be444_429d_11eb_93ff_0242ac110003row43_col1\" class=\"data row43 col1\" >None</td>\n",
       "            </tr>\n",
       "            <tr>\n",
       "                        <th id=\"T_595be444_429d_11eb_93ff_0242ac110003level0_row44\" class=\"row_heading level0 row44\" >44</th>\n",
       "                        <td id=\"T_595be444_429d_11eb_93ff_0242ac110003row44_col0\" class=\"data row44 col0\" >Clustering</td>\n",
       "                        <td id=\"T_595be444_429d_11eb_93ff_0242ac110003row44_col1\" class=\"data row44 col1\" >False</td>\n",
       "            </tr>\n",
       "            <tr>\n",
       "                        <th id=\"T_595be444_429d_11eb_93ff_0242ac110003level0_row45\" class=\"row_heading level0 row45\" >45</th>\n",
       "                        <td id=\"T_595be444_429d_11eb_93ff_0242ac110003row45_col0\" class=\"data row45 col0\" >Clustering Iteration</td>\n",
       "                        <td id=\"T_595be444_429d_11eb_93ff_0242ac110003row45_col1\" class=\"data row45 col1\" >None</td>\n",
       "            </tr>\n",
       "            <tr>\n",
       "                        <th id=\"T_595be444_429d_11eb_93ff_0242ac110003level0_row46\" class=\"row_heading level0 row46\" >46</th>\n",
       "                        <td id=\"T_595be444_429d_11eb_93ff_0242ac110003row46_col0\" class=\"data row46 col0\" >Polynomial Features</td>\n",
       "                        <td id=\"T_595be444_429d_11eb_93ff_0242ac110003row46_col1\" class=\"data row46 col1\" >False</td>\n",
       "            </tr>\n",
       "            <tr>\n",
       "                        <th id=\"T_595be444_429d_11eb_93ff_0242ac110003level0_row47\" class=\"row_heading level0 row47\" >47</th>\n",
       "                        <td id=\"T_595be444_429d_11eb_93ff_0242ac110003row47_col0\" class=\"data row47 col0\" >Polynomial Degree</td>\n",
       "                        <td id=\"T_595be444_429d_11eb_93ff_0242ac110003row47_col1\" class=\"data row47 col1\" >None</td>\n",
       "            </tr>\n",
       "            <tr>\n",
       "                        <th id=\"T_595be444_429d_11eb_93ff_0242ac110003level0_row48\" class=\"row_heading level0 row48\" >48</th>\n",
       "                        <td id=\"T_595be444_429d_11eb_93ff_0242ac110003row48_col0\" class=\"data row48 col0\" >Trignometry Features</td>\n",
       "                        <td id=\"T_595be444_429d_11eb_93ff_0242ac110003row48_col1\" class=\"data row48 col1\" >False</td>\n",
       "            </tr>\n",
       "            <tr>\n",
       "                        <th id=\"T_595be444_429d_11eb_93ff_0242ac110003level0_row49\" class=\"row_heading level0 row49\" >49</th>\n",
       "                        <td id=\"T_595be444_429d_11eb_93ff_0242ac110003row49_col0\" class=\"data row49 col0\" >Polynomial Threshold</td>\n",
       "                        <td id=\"T_595be444_429d_11eb_93ff_0242ac110003row49_col1\" class=\"data row49 col1\" >None</td>\n",
       "            </tr>\n",
       "            <tr>\n",
       "                        <th id=\"T_595be444_429d_11eb_93ff_0242ac110003level0_row50\" class=\"row_heading level0 row50\" >50</th>\n",
       "                        <td id=\"T_595be444_429d_11eb_93ff_0242ac110003row50_col0\" class=\"data row50 col0\" >Group Features</td>\n",
       "                        <td id=\"T_595be444_429d_11eb_93ff_0242ac110003row50_col1\" class=\"data row50 col1\" >False</td>\n",
       "            </tr>\n",
       "            <tr>\n",
       "                        <th id=\"T_595be444_429d_11eb_93ff_0242ac110003level0_row51\" class=\"row_heading level0 row51\" >51</th>\n",
       "                        <td id=\"T_595be444_429d_11eb_93ff_0242ac110003row51_col0\" class=\"data row51 col0\" >Feature Selection</td>\n",
       "                        <td id=\"T_595be444_429d_11eb_93ff_0242ac110003row51_col1\" class=\"data row51 col1\" >False</td>\n",
       "            </tr>\n",
       "            <tr>\n",
       "                        <th id=\"T_595be444_429d_11eb_93ff_0242ac110003level0_row52\" class=\"row_heading level0 row52\" >52</th>\n",
       "                        <td id=\"T_595be444_429d_11eb_93ff_0242ac110003row52_col0\" class=\"data row52 col0\" >Features Selection Threshold</td>\n",
       "                        <td id=\"T_595be444_429d_11eb_93ff_0242ac110003row52_col1\" class=\"data row52 col1\" >None</td>\n",
       "            </tr>\n",
       "            <tr>\n",
       "                        <th id=\"T_595be444_429d_11eb_93ff_0242ac110003level0_row53\" class=\"row_heading level0 row53\" >53</th>\n",
       "                        <td id=\"T_595be444_429d_11eb_93ff_0242ac110003row53_col0\" class=\"data row53 col0\" >Feature Interaction</td>\n",
       "                        <td id=\"T_595be444_429d_11eb_93ff_0242ac110003row53_col1\" class=\"data row53 col1\" >False</td>\n",
       "            </tr>\n",
       "            <tr>\n",
       "                        <th id=\"T_595be444_429d_11eb_93ff_0242ac110003level0_row54\" class=\"row_heading level0 row54\" >54</th>\n",
       "                        <td id=\"T_595be444_429d_11eb_93ff_0242ac110003row54_col0\" class=\"data row54 col0\" >Feature Ratio</td>\n",
       "                        <td id=\"T_595be444_429d_11eb_93ff_0242ac110003row54_col1\" class=\"data row54 col1\" >False</td>\n",
       "            </tr>\n",
       "            <tr>\n",
       "                        <th id=\"T_595be444_429d_11eb_93ff_0242ac110003level0_row55\" class=\"row_heading level0 row55\" >55</th>\n",
       "                        <td id=\"T_595be444_429d_11eb_93ff_0242ac110003row55_col0\" class=\"data row55 col0\" >Interaction Threshold</td>\n",
       "                        <td id=\"T_595be444_429d_11eb_93ff_0242ac110003row55_col1\" class=\"data row55 col1\" >None</td>\n",
       "            </tr>\n",
       "            <tr>\n",
       "                        <th id=\"T_595be444_429d_11eb_93ff_0242ac110003level0_row56\" class=\"row_heading level0 row56\" >56</th>\n",
       "                        <td id=\"T_595be444_429d_11eb_93ff_0242ac110003row56_col0\" class=\"data row56 col0\" >Fix Imbalance</td>\n",
       "                        <td id=\"T_595be444_429d_11eb_93ff_0242ac110003row56_col1\" class=\"data row56 col1\" >False</td>\n",
       "            </tr>\n",
       "            <tr>\n",
       "                        <th id=\"T_595be444_429d_11eb_93ff_0242ac110003level0_row57\" class=\"row_heading level0 row57\" >57</th>\n",
       "                        <td id=\"T_595be444_429d_11eb_93ff_0242ac110003row57_col0\" class=\"data row57 col0\" >Fix Imbalance Method</td>\n",
       "                        <td id=\"T_595be444_429d_11eb_93ff_0242ac110003row57_col1\" class=\"data row57 col1\" >SMOTE</td>\n",
       "            </tr>\n",
       "    </tbody></table>"
      ],
      "text/plain": [
       "<pandas.io.formats.style.Styler at 0x7f7793748e80>"
      ]
     },
     "metadata": {},
     "output_type": "display_data"
    }
   ],
   "source": [
    "exp_clf101 = setup(data = micro_test, target = 'target', session_id=123, use_gpu=True)"
   ]
  },
  {
   "cell_type": "markdown",
   "metadata": {},
   "source": [
    "# Modelling with PyCaret"
   ]
  },
  {
   "cell_type": "code",
   "execution_count": null,
   "metadata": {},
   "outputs": [
    {
     "data": {
      "application/vnd.jupyter.widget-view+json": {
       "model_id": "3cde99b5371644e99574f88fee231d40",
       "version_major": 2,
       "version_minor": 0
      },
      "text/plain": [
       "IntProgress(value=0, description='Processing: ', max=79)"
      ]
     },
     "metadata": {},
     "output_type": "display_data"
    },
    {
     "data": {
      "text/html": [
       "<div>\n",
       "<style scoped>\n",
       "    .dataframe tbody tr th:only-of-type {\n",
       "        vertical-align: middle;\n",
       "    }\n",
       "\n",
       "    .dataframe tbody tr th {\n",
       "        vertical-align: top;\n",
       "    }\n",
       "\n",
       "    .dataframe thead th {\n",
       "        text-align: right;\n",
       "    }\n",
       "</style>\n",
       "<table border=\"1\" class=\"dataframe\">\n",
       "  <thead>\n",
       "    <tr style=\"text-align: right;\">\n",
       "      <th></th>\n",
       "      <th></th>\n",
       "      <th></th>\n",
       "    </tr>\n",
       "    <tr>\n",
       "      <th></th>\n",
       "      <th></th>\n",
       "      <th></th>\n",
       "    </tr>\n",
       "  </thead>\n",
       "  <tbody>\n",
       "    <tr>\n",
       "      <th>Initiated</th>\n",
       "      <td>. . . . . . . . . . . . . . . . . .</td>\n",
       "      <td>08:28:34</td>\n",
       "    </tr>\n",
       "    <tr>\n",
       "      <th>Status</th>\n",
       "      <td>. . . . . . . . . . . . . . . . . .</td>\n",
       "      <td>Fitting 10 Folds</td>\n",
       "    </tr>\n",
       "    <tr>\n",
       "      <th>Estimator</th>\n",
       "      <td>. . . . . . . . . . . . . . . . . .</td>\n",
       "      <td>Gradient Boosting Classifier</td>\n",
       "    </tr>\n",
       "  </tbody>\n",
       "</table>\n",
       "</div>"
      ],
      "text/plain": [
       "                                                                            \n",
       "                                                                            \n",
       "Initiated  . . . . . . . . . . . . . . . . . .                      08:28:34\n",
       "Status     . . . . . . . . . . . . . . . . . .              Fitting 10 Folds\n",
       "Estimator  . . . . . . . . . . . . . . . . . .  Gradient Boosting Classifier"
      ]
     },
     "metadata": {},
     "output_type": "display_data"
    },
    {
     "data": {
      "text/html": [
       "<style  type=\"text/css\" >\n",
       "    #T_db78fe06_42a4_11eb_93ff_0242ac110003 th {\n",
       "          text-align: left;\n",
       "    }#T_db78fe06_42a4_11eb_93ff_0242ac110003row0_col0,#T_db78fe06_42a4_11eb_93ff_0242ac110003row0_col1,#T_db78fe06_42a4_11eb_93ff_0242ac110003row0_col2,#T_db78fe06_42a4_11eb_93ff_0242ac110003row0_col3,#T_db78fe06_42a4_11eb_93ff_0242ac110003row0_col4,#T_db78fe06_42a4_11eb_93ff_0242ac110003row0_col5,#T_db78fe06_42a4_11eb_93ff_0242ac110003row0_col6,#T_db78fe06_42a4_11eb_93ff_0242ac110003row0_col7,#T_db78fe06_42a4_11eb_93ff_0242ac110003row0_col8,#T_db78fe06_42a4_11eb_93ff_0242ac110003row1_col0,#T_db78fe06_42a4_11eb_93ff_0242ac110003row1_col1,#T_db78fe06_42a4_11eb_93ff_0242ac110003row1_col2,#T_db78fe06_42a4_11eb_93ff_0242ac110003row1_col3,#T_db78fe06_42a4_11eb_93ff_0242ac110003row1_col4,#T_db78fe06_42a4_11eb_93ff_0242ac110003row1_col5,#T_db78fe06_42a4_11eb_93ff_0242ac110003row1_col6,#T_db78fe06_42a4_11eb_93ff_0242ac110003row1_col7,#T_db78fe06_42a4_11eb_93ff_0242ac110003row1_col8,#T_db78fe06_42a4_11eb_93ff_0242ac110003row2_col0,#T_db78fe06_42a4_11eb_93ff_0242ac110003row2_col1,#T_db78fe06_42a4_11eb_93ff_0242ac110003row2_col2,#T_db78fe06_42a4_11eb_93ff_0242ac110003row2_col3,#T_db78fe06_42a4_11eb_93ff_0242ac110003row2_col4,#T_db78fe06_42a4_11eb_93ff_0242ac110003row2_col5,#T_db78fe06_42a4_11eb_93ff_0242ac110003row2_col6,#T_db78fe06_42a4_11eb_93ff_0242ac110003row2_col7,#T_db78fe06_42a4_11eb_93ff_0242ac110003row2_col8,#T_db78fe06_42a4_11eb_93ff_0242ac110003row3_col0,#T_db78fe06_42a4_11eb_93ff_0242ac110003row3_col1,#T_db78fe06_42a4_11eb_93ff_0242ac110003row3_col2,#T_db78fe06_42a4_11eb_93ff_0242ac110003row3_col3,#T_db78fe06_42a4_11eb_93ff_0242ac110003row3_col4,#T_db78fe06_42a4_11eb_93ff_0242ac110003row3_col5,#T_db78fe06_42a4_11eb_93ff_0242ac110003row3_col6,#T_db78fe06_42a4_11eb_93ff_0242ac110003row3_col7,#T_db78fe06_42a4_11eb_93ff_0242ac110003row3_col8,#T_db78fe06_42a4_11eb_93ff_0242ac110003row4_col0,#T_db78fe06_42a4_11eb_93ff_0242ac110003row4_col1,#T_db78fe06_42a4_11eb_93ff_0242ac110003row4_col2,#T_db78fe06_42a4_11eb_93ff_0242ac110003row4_col3,#T_db78fe06_42a4_11eb_93ff_0242ac110003row4_col4,#T_db78fe06_42a4_11eb_93ff_0242ac110003row4_col5,#T_db78fe06_42a4_11eb_93ff_0242ac110003row4_col6,#T_db78fe06_42a4_11eb_93ff_0242ac110003row4_col7,#T_db78fe06_42a4_11eb_93ff_0242ac110003row4_col8,#T_db78fe06_42a4_11eb_93ff_0242ac110003row5_col0,#T_db78fe06_42a4_11eb_93ff_0242ac110003row5_col1,#T_db78fe06_42a4_11eb_93ff_0242ac110003row5_col2,#T_db78fe06_42a4_11eb_93ff_0242ac110003row5_col3,#T_db78fe06_42a4_11eb_93ff_0242ac110003row5_col4,#T_db78fe06_42a4_11eb_93ff_0242ac110003row5_col5,#T_db78fe06_42a4_11eb_93ff_0242ac110003row5_col6,#T_db78fe06_42a4_11eb_93ff_0242ac110003row5_col7,#T_db78fe06_42a4_11eb_93ff_0242ac110003row5_col8,#T_db78fe06_42a4_11eb_93ff_0242ac110003row6_col0,#T_db78fe06_42a4_11eb_93ff_0242ac110003row6_col1,#T_db78fe06_42a4_11eb_93ff_0242ac110003row6_col2,#T_db78fe06_42a4_11eb_93ff_0242ac110003row6_col3,#T_db78fe06_42a4_11eb_93ff_0242ac110003row6_col4,#T_db78fe06_42a4_11eb_93ff_0242ac110003row6_col5,#T_db78fe06_42a4_11eb_93ff_0242ac110003row6_col6,#T_db78fe06_42a4_11eb_93ff_0242ac110003row6_col7,#T_db78fe06_42a4_11eb_93ff_0242ac110003row6_col8,#T_db78fe06_42a4_11eb_93ff_0242ac110003row7_col0,#T_db78fe06_42a4_11eb_93ff_0242ac110003row7_col1,#T_db78fe06_42a4_11eb_93ff_0242ac110003row7_col2,#T_db78fe06_42a4_11eb_93ff_0242ac110003row7_col3,#T_db78fe06_42a4_11eb_93ff_0242ac110003row7_col4,#T_db78fe06_42a4_11eb_93ff_0242ac110003row7_col5,#T_db78fe06_42a4_11eb_93ff_0242ac110003row7_col6,#T_db78fe06_42a4_11eb_93ff_0242ac110003row7_col7,#T_db78fe06_42a4_11eb_93ff_0242ac110003row7_col8,#T_db78fe06_42a4_11eb_93ff_0242ac110003row8_col0,#T_db78fe06_42a4_11eb_93ff_0242ac110003row8_col1,#T_db78fe06_42a4_11eb_93ff_0242ac110003row8_col2,#T_db78fe06_42a4_11eb_93ff_0242ac110003row8_col3,#T_db78fe06_42a4_11eb_93ff_0242ac110003row8_col4,#T_db78fe06_42a4_11eb_93ff_0242ac110003row8_col5,#T_db78fe06_42a4_11eb_93ff_0242ac110003row8_col6,#T_db78fe06_42a4_11eb_93ff_0242ac110003row8_col7,#T_db78fe06_42a4_11eb_93ff_0242ac110003row8_col8{\n",
       "            text-align:  left;\n",
       "        }</style><table id=\"T_db78fe06_42a4_11eb_93ff_0242ac110003\" ><thead>    <tr>        <th class=\"blank level0\" ></th>        <th class=\"col_heading level0 col0\" >Model</th>        <th class=\"col_heading level0 col1\" >Accuracy</th>        <th class=\"col_heading level0 col2\" >AUC</th>        <th class=\"col_heading level0 col3\" >Recall</th>        <th class=\"col_heading level0 col4\" >Prec.</th>        <th class=\"col_heading level0 col5\" >F1</th>        <th class=\"col_heading level0 col6\" >Kappa</th>        <th class=\"col_heading level0 col7\" >MCC</th>        <th class=\"col_heading level0 col8\" >TT (Sec)</th>    </tr></thead><tbody>\n",
       "                <tr>\n",
       "                        <th id=\"T_db78fe06_42a4_11eb_93ff_0242ac110003level0_row0\" class=\"row_heading level0 row0\" >nb</th>\n",
       "                        <td id=\"T_db78fe06_42a4_11eb_93ff_0242ac110003row0_col0\" class=\"data row0 col0\" >Naive Bayes</td>\n",
       "                        <td id=\"T_db78fe06_42a4_11eb_93ff_0242ac110003row0_col1\" class=\"data row0 col1\" >0.9014</td>\n",
       "                        <td id=\"T_db78fe06_42a4_11eb_93ff_0242ac110003row0_col2\" class=\"data row0 col2\" >0.7242</td>\n",
       "                        <td id=\"T_db78fe06_42a4_11eb_93ff_0242ac110003row0_col3\" class=\"data row0 col3\" >0.0371</td>\n",
       "                        <td id=\"T_db78fe06_42a4_11eb_93ff_0242ac110003row0_col4\" class=\"data row0 col4\" >0.6290</td>\n",
       "                        <td id=\"T_db78fe06_42a4_11eb_93ff_0242ac110003row0_col5\" class=\"data row0 col5\" >0.0701</td>\n",
       "                        <td id=\"T_db78fe06_42a4_11eb_93ff_0242ac110003row0_col6\" class=\"data row0 col6\" >0.0595</td>\n",
       "                        <td id=\"T_db78fe06_42a4_11eb_93ff_0242ac110003row0_col7\" class=\"data row0 col7\" >0.1357</td>\n",
       "                        <td id=\"T_db78fe06_42a4_11eb_93ff_0242ac110003row0_col8\" class=\"data row0 col8\" >0.1220</td>\n",
       "            </tr>\n",
       "            <tr>\n",
       "                        <th id=\"T_db78fe06_42a4_11eb_93ff_0242ac110003level0_row1\" class=\"row_heading level0 row1\" >ada</th>\n",
       "                        <td id=\"T_db78fe06_42a4_11eb_93ff_0242ac110003row1_col0\" class=\"data row1 col0\" >Ada Boost Classifier</td>\n",
       "                        <td id=\"T_db78fe06_42a4_11eb_93ff_0242ac110003row1_col1\" class=\"data row1 col1\" >0.9007</td>\n",
       "                        <td id=\"T_db78fe06_42a4_11eb_93ff_0242ac110003row1_col2\" class=\"data row1 col2\" >0.7213</td>\n",
       "                        <td id=\"T_db78fe06_42a4_11eb_93ff_0242ac110003row1_col3\" class=\"data row1 col3\" >0.0550</td>\n",
       "                        <td id=\"T_db78fe06_42a4_11eb_93ff_0242ac110003row1_col4\" class=\"data row1 col4\" >0.5379</td>\n",
       "                        <td id=\"T_db78fe06_42a4_11eb_93ff_0242ac110003row1_col5\" class=\"data row1 col5\" >0.0998</td>\n",
       "                        <td id=\"T_db78fe06_42a4_11eb_93ff_0242ac110003row1_col6\" class=\"data row1 col6\" >0.0829</td>\n",
       "                        <td id=\"T_db78fe06_42a4_11eb_93ff_0242ac110003row1_col7\" class=\"data row1 col7\" >0.1484</td>\n",
       "                        <td id=\"T_db78fe06_42a4_11eb_93ff_0242ac110003row1_col8\" class=\"data row1 col8\" >58.7700</td>\n",
       "            </tr>\n",
       "            <tr>\n",
       "                        <th id=\"T_db78fe06_42a4_11eb_93ff_0242ac110003level0_row2\" class=\"row_heading level0 row2\" >lr</th>\n",
       "                        <td id=\"T_db78fe06_42a4_11eb_93ff_0242ac110003row2_col0\" class=\"data row2 col0\" >Logistic Regression</td>\n",
       "                        <td id=\"T_db78fe06_42a4_11eb_93ff_0242ac110003row2_col1\" class=\"data row2 col1\" >0.9006</td>\n",
       "                        <td id=\"T_db78fe06_42a4_11eb_93ff_0242ac110003row2_col2\" class=\"data row2 col2\" >0.7029</td>\n",
       "                        <td id=\"T_db78fe06_42a4_11eb_93ff_0242ac110003row2_col3\" class=\"data row2 col3\" >0.0108</td>\n",
       "                        <td id=\"T_db78fe06_42a4_11eb_93ff_0242ac110003row2_col4\" class=\"data row2 col4\" >0.7112</td>\n",
       "                        <td id=\"T_db78fe06_42a4_11eb_93ff_0242ac110003row2_col5\" class=\"data row2 col5\" >0.0214</td>\n",
       "                        <td id=\"T_db78fe06_42a4_11eb_93ff_0242ac110003row2_col6\" class=\"data row2 col6\" >0.0184</td>\n",
       "                        <td id=\"T_db78fe06_42a4_11eb_93ff_0242ac110003row2_col7\" class=\"data row2 col7\" >0.0793</td>\n",
       "                        <td id=\"T_db78fe06_42a4_11eb_93ff_0242ac110003row2_col8\" class=\"data row2 col8\" >25.4670</td>\n",
       "            </tr>\n",
       "            <tr>\n",
       "                        <th id=\"T_db78fe06_42a4_11eb_93ff_0242ac110003level0_row3\" class=\"row_heading level0 row3\" >qda</th>\n",
       "                        <td id=\"T_db78fe06_42a4_11eb_93ff_0242ac110003row3_col0\" class=\"data row3 col0\" >Quadratic Discriminant Analysis</td>\n",
       "                        <td id=\"T_db78fe06_42a4_11eb_93ff_0242ac110003row3_col1\" class=\"data row3 col1\" >0.9006</td>\n",
       "                        <td id=\"T_db78fe06_42a4_11eb_93ff_0242ac110003row3_col2\" class=\"data row3 col2\" >0.7114</td>\n",
       "                        <td id=\"T_db78fe06_42a4_11eb_93ff_0242ac110003row3_col3\" class=\"data row3 col3\" >0.0385</td>\n",
       "                        <td id=\"T_db78fe06_42a4_11eb_93ff_0242ac110003row3_col4\" class=\"data row3 col4\" >0.5516</td>\n",
       "                        <td id=\"T_db78fe06_42a4_11eb_93ff_0242ac110003row3_col5\" class=\"data row3 col5\" >0.0720</td>\n",
       "                        <td id=\"T_db78fe06_42a4_11eb_93ff_0242ac110003row3_col6\" class=\"data row3 col6\" >0.0597</td>\n",
       "                        <td id=\"T_db78fe06_42a4_11eb_93ff_0242ac110003row3_col7\" class=\"data row3 col7\" >0.1262</td>\n",
       "                        <td id=\"T_db78fe06_42a4_11eb_93ff_0242ac110003row3_col8\" class=\"data row3 col8\" >0.5430</td>\n",
       "            </tr>\n",
       "            <tr>\n",
       "                        <th id=\"T_db78fe06_42a4_11eb_93ff_0242ac110003level0_row4\" class=\"row_heading level0 row4\" >ridge</th>\n",
       "                        <td id=\"T_db78fe06_42a4_11eb_93ff_0242ac110003row4_col0\" class=\"data row4 col0\" >Ridge Classifier</td>\n",
       "                        <td id=\"T_db78fe06_42a4_11eb_93ff_0242ac110003row4_col1\" class=\"data row4 col1\" >0.8999</td>\n",
       "                        <td id=\"T_db78fe06_42a4_11eb_93ff_0242ac110003row4_col2\" class=\"data row4 col2\" >0.0000</td>\n",
       "                        <td id=\"T_db78fe06_42a4_11eb_93ff_0242ac110003row4_col3\" class=\"data row4 col3\" >0.0000</td>\n",
       "                        <td id=\"T_db78fe06_42a4_11eb_93ff_0242ac110003row4_col4\" class=\"data row4 col4\" >0.0000</td>\n",
       "                        <td id=\"T_db78fe06_42a4_11eb_93ff_0242ac110003row4_col5\" class=\"data row4 col5\" >0.0000</td>\n",
       "                        <td id=\"T_db78fe06_42a4_11eb_93ff_0242ac110003row4_col6\" class=\"data row4 col6\" >0.0000</td>\n",
       "                        <td id=\"T_db78fe06_42a4_11eb_93ff_0242ac110003row4_col7\" class=\"data row4 col7\" >0.0000</td>\n",
       "                        <td id=\"T_db78fe06_42a4_11eb_93ff_0242ac110003row4_col8\" class=\"data row4 col8\" >0.1380</td>\n",
       "            </tr>\n",
       "            <tr>\n",
       "                        <th id=\"T_db78fe06_42a4_11eb_93ff_0242ac110003level0_row5\" class=\"row_heading level0 row5\" >rf</th>\n",
       "                        <td id=\"T_db78fe06_42a4_11eb_93ff_0242ac110003row5_col0\" class=\"data row5 col0\" >Random Forest Classifier</td>\n",
       "                        <td id=\"T_db78fe06_42a4_11eb_93ff_0242ac110003row5_col1\" class=\"data row5 col1\" >0.8999</td>\n",
       "                        <td id=\"T_db78fe06_42a4_11eb_93ff_0242ac110003row5_col2\" class=\"data row5 col2\" >0.6914</td>\n",
       "                        <td id=\"T_db78fe06_42a4_11eb_93ff_0242ac110003row5_col3\" class=\"data row5 col3\" >0.0004</td>\n",
       "                        <td id=\"T_db78fe06_42a4_11eb_93ff_0242ac110003row5_col4\" class=\"data row5 col4\" >0.2500</td>\n",
       "                        <td id=\"T_db78fe06_42a4_11eb_93ff_0242ac110003row5_col5\" class=\"data row5 col5\" >0.0007</td>\n",
       "                        <td id=\"T_db78fe06_42a4_11eb_93ff_0242ac110003row5_col6\" class=\"data row5 col6\" >0.0006</td>\n",
       "                        <td id=\"T_db78fe06_42a4_11eb_93ff_0242ac110003row5_col7\" class=\"data row5 col7\" >0.0082</td>\n",
       "                        <td id=\"T_db78fe06_42a4_11eb_93ff_0242ac110003row5_col8\" class=\"data row5 col8\" >63.4210</td>\n",
       "            </tr>\n",
       "            <tr>\n",
       "                        <th id=\"T_db78fe06_42a4_11eb_93ff_0242ac110003level0_row6\" class=\"row_heading level0 row6\" >knn</th>\n",
       "                        <td id=\"T_db78fe06_42a4_11eb_93ff_0242ac110003row6_col0\" class=\"data row6 col0\" >K Neighbors Classifier</td>\n",
       "                        <td id=\"T_db78fe06_42a4_11eb_93ff_0242ac110003row6_col1\" class=\"data row6 col1\" >0.8968</td>\n",
       "                        <td id=\"T_db78fe06_42a4_11eb_93ff_0242ac110003row6_col2\" class=\"data row6 col2\" >0.5338</td>\n",
       "                        <td id=\"T_db78fe06_42a4_11eb_93ff_0242ac110003row6_col3\" class=\"data row6 col3\" >0.0086</td>\n",
       "                        <td id=\"T_db78fe06_42a4_11eb_93ff_0242ac110003row6_col4\" class=\"data row6 col4\" >0.1768</td>\n",
       "                        <td id=\"T_db78fe06_42a4_11eb_93ff_0242ac110003row6_col5\" class=\"data row6 col5\" >0.0165</td>\n",
       "                        <td id=\"T_db78fe06_42a4_11eb_93ff_0242ac110003row6_col6\" class=\"data row6 col6\" >0.0072</td>\n",
       "                        <td id=\"T_db78fe06_42a4_11eb_93ff_0242ac110003row6_col7\" class=\"data row6 col7\" >0.0179</td>\n",
       "                        <td id=\"T_db78fe06_42a4_11eb_93ff_0242ac110003row6_col8\" class=\"data row6 col8\" >136.3940</td>\n",
       "            </tr>\n",
       "            <tr>\n",
       "                        <th id=\"T_db78fe06_42a4_11eb_93ff_0242ac110003level0_row7\" class=\"row_heading level0 row7\" >svm</th>\n",
       "                        <td id=\"T_db78fe06_42a4_11eb_93ff_0242ac110003row7_col0\" class=\"data row7 col0\" >SVM - Linear Kernel</td>\n",
       "                        <td id=\"T_db78fe06_42a4_11eb_93ff_0242ac110003row7_col1\" class=\"data row7 col1\" >0.8789</td>\n",
       "                        <td id=\"T_db78fe06_42a4_11eb_93ff_0242ac110003row7_col2\" class=\"data row7 col2\" >0.0000</td>\n",
       "                        <td id=\"T_db78fe06_42a4_11eb_93ff_0242ac110003row7_col3\" class=\"data row7 col3\" >0.0731</td>\n",
       "                        <td id=\"T_db78fe06_42a4_11eb_93ff_0242ac110003row7_col4\" class=\"data row7 col4\" >0.3930</td>\n",
       "                        <td id=\"T_db78fe06_42a4_11eb_93ff_0242ac110003row7_col5\" class=\"data row7 col5\" >0.0744</td>\n",
       "                        <td id=\"T_db78fe06_42a4_11eb_93ff_0242ac110003row7_col6\" class=\"data row7 col6\" >0.0473</td>\n",
       "                        <td id=\"T_db78fe06_42a4_11eb_93ff_0242ac110003row7_col7\" class=\"data row7 col7\" >0.0747</td>\n",
       "                        <td id=\"T_db78fe06_42a4_11eb_93ff_0242ac110003row7_col8\" class=\"data row7 col8\" >6.8510</td>\n",
       "            </tr>\n",
       "            <tr>\n",
       "                        <th id=\"T_db78fe06_42a4_11eb_93ff_0242ac110003level0_row8\" class=\"row_heading level0 row8\" >dt</th>\n",
       "                        <td id=\"T_db78fe06_42a4_11eb_93ff_0242ac110003row8_col0\" class=\"data row8 col0\" >Decision Tree Classifier</td>\n",
       "                        <td id=\"T_db78fe06_42a4_11eb_93ff_0242ac110003row8_col1\" class=\"data row8 col1\" >0.8216</td>\n",
       "                        <td id=\"T_db78fe06_42a4_11eb_93ff_0242ac110003row8_col2\" class=\"data row8 col2\" >0.5358</td>\n",
       "                        <td id=\"T_db78fe06_42a4_11eb_93ff_0242ac110003row8_col3\" class=\"data row8 col3\" >0.1784</td>\n",
       "                        <td id=\"T_db78fe06_42a4_11eb_93ff_0242ac110003row8_col4\" class=\"data row8 col4\" >0.1565</td>\n",
       "                        <td id=\"T_db78fe06_42a4_11eb_93ff_0242ac110003row8_col5\" class=\"data row8 col5\" >0.1667</td>\n",
       "                        <td id=\"T_db78fe06_42a4_11eb_93ff_0242ac110003row8_col6\" class=\"data row8 col6\" >0.0673</td>\n",
       "                        <td id=\"T_db78fe06_42a4_11eb_93ff_0242ac110003row8_col7\" class=\"data row8 col7\" >0.0675</td>\n",
       "                        <td id=\"T_db78fe06_42a4_11eb_93ff_0242ac110003row8_col8\" class=\"data row8 col8\" >30.5980</td>\n",
       "            </tr>\n",
       "    </tbody></table>"
      ],
      "text/plain": [
       "<pandas.io.formats.style.Styler at 0x7f74e77cfca0>"
      ]
     },
     "metadata": {},
     "output_type": "display_data"
    }
   ],
   "source": [
    "best_model = compare_models()"
   ]
  },
  {
   "cell_type": "markdown",
   "metadata": {},
   "source": [
    "# XGB Model"
   ]
  },
  {
   "cell_type": "code",
   "execution_count": null,
   "metadata": {},
   "outputs": [],
   "source": [
    "xgb_model = create_model('xgboost', fold = 5)"
   ]
  },
  {
   "cell_type": "code",
   "execution_count": null,
   "metadata": {},
   "outputs": [],
   "source": [
    "# tune_model\n",
    "tuned_xgb = tune_model(xgb_model, optimize = 'AUC')"
   ]
  },
  {
   "cell_type": "code",
   "execution_count": null,
   "metadata": {},
   "outputs": [],
   "source": [
    "plot_model(xgb_model, plot = 'parameter')"
   ]
  },
  {
   "cell_type": "markdown",
   "metadata": {},
   "source": [
    "# Light GBM "
   ]
  },
  {
   "cell_type": "code",
   "execution_count": null,
   "metadata": {},
   "outputs": [],
   "source": [
    "lightgbm_model = create_model('lightgbm', fold = 5)"
   ]
  },
  {
   "cell_type": "code",
   "execution_count": null,
   "metadata": {},
   "outputs": [],
   "source": [
    "# tune_model\n",
    "tuned_lightgbm = tune_model(lightgbm_model, optimize = 'AUC')"
   ]
  },
  {
   "cell_type": "markdown",
   "metadata": {},
   "source": [
    "# Catboost"
   ]
  },
  {
   "cell_type": "code",
   "execution_count": null,
   "metadata": {},
   "outputs": [],
   "source": [
    "catboost_model = create_model('catboost', fold = 5)"
   ]
  },
  {
   "cell_type": "code",
   "execution_count": null,
   "metadata": {},
   "outputs": [],
   "source": [
    "tuned_catboost = tune_model(catboost_model, optimize = 'AUC')"
   ]
  },
  {
   "cell_type": "markdown",
   "metadata": {},
   "source": [
    "# Bagging Tests"
   ]
  },
  {
   "cell_type": "code",
   "execution_count": null,
   "metadata": {},
   "outputs": [],
   "source": [
    "bagged_xgb = ensemble_model(tuned_xgb, optimize = 'AUC')"
   ]
  },
  {
   "cell_type": "code",
   "execution_count": null,
   "metadata": {},
   "outputs": [],
   "source": [
    "bagged_lightgbm = ensemble_model(tuned_lightgbm, optimize = 'AUC')"
   ]
  },
  {
   "cell_type": "code",
   "execution_count": null,
   "metadata": {},
   "outputs": [],
   "source": [
    "bagged_catboost = ensemble_model(tuned_catboost, optimize = 'AUC')"
   ]
  },
  {
   "cell_type": "markdown",
   "metadata": {},
   "source": [
    "# Boosting ensemble_model"
   ]
  },
  {
   "cell_type": "code",
   "execution_count": null,
   "metadata": {},
   "outputs": [],
   "source": [
    "boosted_xgb = ensemble_model(tuned_xgb, method = 'Boosting', optimize = 'AUC')"
   ]
  },
  {
   "cell_type": "code",
   "execution_count": null,
   "metadata": {},
   "outputs": [],
   "source": [
    "merge_boost = create_model('xgboost')"
   ]
  },
  {
   "cell_type": "code",
   "execution_count": null,
   "metadata": {},
   "outputs": [],
   "source": [
    "blendy = blend_models(estimator_list = [bagged_xgb, bagged_lightgbm, bagged_catboost], \n",
    "                      optimize = 'AUC')"
   ]
  },
  {
   "cell_type": "markdown",
   "metadata": {},
   "source": [
    "# Plot out models"
   ]
  },
  {
   "cell_type": "code",
   "execution_count": null,
   "metadata": {},
   "outputs": [],
   "source": [
    "plot_model(blendy, plot = 'auc')"
   ]
  },
  {
   "cell_type": "code",
   "execution_count": null,
   "metadata": {},
   "outputs": [],
   "source": [
    "plot_model(blendy, plot = 'pr')"
   ]
  },
  {
   "cell_type": "code",
   "execution_count": null,
   "metadata": {},
   "outputs": [],
   "source": [
    "plot_model(tuned_lightgbm, plot='feature')"
   ]
  }
 ],
 "metadata": {
  "kernelspec": {
   "display_name": "Python 3",
   "language": "python",
   "name": "python3"
  },
  "language_info": {
   "codemirror_mode": {
    "name": "ipython",
    "version": 3
   },
   "file_extension": ".py",
   "mimetype": "text/x-python",
   "name": "python",
   "nbconvert_exporter": "python",
   "pygments_lexer": "ipython3",
   "version": "3.8.5"
  }
 },
 "nbformat": 4,
 "nbformat_minor": 4
}
