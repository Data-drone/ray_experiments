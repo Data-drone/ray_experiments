{
 "cells": [
  {
   "cell_type": "markdown",
   "metadata": {},
   "source": [
    "# Tuning Tpot"
   ]
  },
  {
   "cell_type": "code",
   "execution_count": 1,
   "metadata": {},
   "outputs": [
    {
     "name": "stderr",
     "output_type": "stream",
     "text": [
      "/opt/conda/envs/tpot-cuml/lib/python3.8/site-packages/tpot/builtins/__init__.py:36: UserWarning: Warning: optional dependency `torch` is not available. - skipping import of NN models.\n",
      "  warnings.warn(\"Warning: optional dependency `torch` is not available. - skipping import of NN models.\")\n"
     ]
    }
   ],
   "source": [
    "from tpot import TPOTClassifier\n",
    "from sklearn.model_selection import train_test_split\n",
    "import pandas as pd\n",
    "import dask.dataframe as dd\n",
    "from dask_cuda import LocalCUDACluster\n",
    "from dask.distributed import Client"
   ]
  },
  {
   "cell_type": "code",
   "execution_count": 2,
   "metadata": {},
   "outputs": [],
   "source": [
    "# CUDA Cluster Setup\n",
    "cluster = LocalCUDACluster()\n",
    "client = Client(cluster)"
   ]
  },
  {
   "cell_type": "code",
   "execution_count": 3,
   "metadata": {},
   "outputs": [
    {
     "data": {
      "text/html": [
       "<table style=\"border: 2px solid white;\">\n",
       "<tr>\n",
       "<td style=\"vertical-align: top; border: 0px solid white\">\n",
       "<h3 style=\"text-align: left;\">Client</h3>\n",
       "<ul style=\"text-align: left; list-style: none; margin: 0; padding: 0;\">\n",
       "  <li><b>Scheduler: </b>tcp://127.0.0.1:36805</li>\n",
       "  <li><b>Dashboard: </b><a href='http://127.0.0.1:8787/status' target='_blank'>http://127.0.0.1:8787/status</a></li>\n",
       "</ul>\n",
       "</td>\n",
       "<td style=\"vertical-align: top; border: 0px solid white\">\n",
       "<h3 style=\"text-align: left;\">Cluster</h3>\n",
       "<ul style=\"text-align: left; list-style:none; margin: 0; padding: 0;\">\n",
       "  <li><b>Workers: </b>2</li>\n",
       "  <li><b>Cores: </b>2</li>\n",
       "  <li><b>Memory: </b>67.45 GB</li>\n",
       "</ul>\n",
       "</td>\n",
       "</tr>\n",
       "</table>"
      ],
      "text/plain": [
       "<Client: 'tcp://127.0.0.1:36805' processes=2 threads=2, memory=67.45 GB>"
      ]
     },
     "execution_count": 3,
     "metadata": {},
     "output_type": "execute_result"
    }
   ],
   "source": [
    "client"
   ]
  },
  {
   "cell_type": "code",
   "execution_count": 4,
   "metadata": {},
   "outputs": [],
   "source": [
    "# Load Data\n",
    "train = pd.read_feather(\"/home/jovyan/work/ray_experiments/data/train_feat_1_baseline.feather\")\n",
    "target = train['target'] \n",
    "subtrain = train.drop(['ID_code', 'target'], axis = 1)"
   ]
  },
  {
   "cell_type": "code",
   "execution_count": 5,
   "metadata": {},
   "outputs": [],
   "source": [
    "# convert to dask\n",
    "#subtrain = dd.from_pandas(subtrain, npartitions=2)"
   ]
  },
  {
   "cell_type": "code",
   "execution_count": 6,
   "metadata": {},
   "outputs": [],
   "source": [
    "X_train, X_test, y_train, y_test = train_test_split(subtrain, target, test_size=0.3, random_state=42)"
   ]
  },
  {
   "cell_type": "markdown",
   "metadata": {},
   "source": [
    "## Initiating TPoT\n",
    "\n",
    "we will use the cuml config"
   ]
  },
  {
   "cell_type": "code",
   "execution_count": 7,
   "metadata": {},
   "outputs": [],
   "source": [
    "import numpy as np\n",
    "\n",
    "# This configuration provides users with access to a GPU the ability to\n",
    "# use RAPIDS cuML and DMLC/XGBoost classifiers as estimators alongside\n",
    "# the scikit-learn preprocessors in the TPOT default configuration.\n",
    "\n",
    "classifier_config_cuml = {\n",
    "    # cuML + DMLC/XGBoost Classifiers\n",
    "\n",
    "    \"cuml.neighbors.KNeighborsClassifier\": {\n",
    "        \"n_neighbors\": range(1, 101),\n",
    "        \"weights\": [\"uniform\",],\n",
    "    },\n",
    "\n",
    "    \"cuml.linear_model.LogisticRegression\": {\n",
    "        \"penalty\": [\"l1\", \"l2\", \"elasticnet\"],\n",
    "        \"C\": [1e-4, 1e-3, 1e-2, 1e-1, 0.5, 1., 5., 10., 15., 20., 25.,],\n",
    "    },\n",
    "\n",
    "    \"xgboost.XGBClassifier\": {\n",
    "        \"n_estimators\": [100],\n",
    "        \"max_depth\": range(3, 10),\n",
    "        \"learning_rate\": [1e-2, 1e-1, 0.5, 1.],\n",
    "        \"subsample\": np.arange(0.05, 1.01, 0.05),\n",
    "        \"min_child_weight\": range(1, 21),\n",
    "        \"alpha\": [1, 10],\n",
    "        \"tree_method\": [\"gpu_hist\"],\n",
    "        \"n_jobs\": [1],\n",
    "        \"verbosity\": [0]\n",
    "    },\n",
    "\n",
    "    # Sklearn Preprocesssors\n",
    "\n",
    "    \"sklearn.preprocessing.Binarizer\": {\n",
    "        \"threshold\": np.arange(0.0, 1.01, 0.05)\n",
    "    },\n",
    "\n",
    "    \"sklearn.decomposition.FastICA\": {\n",
    "        \"tol\": np.arange(0.0, 1.01, 0.05)\n",
    "    },\n",
    "\n",
    "    \"sklearn.cluster.FeatureAgglomeration\": {\n",
    "        \"linkage\": [\"ward\", \"complete\", \"average\"],\n",
    "        \"affinity\": [\"euclidean\", \"l1\", \"l2\", \"manhattan\", \"cosine\"]\n",
    "    },\n",
    "\n",
    "    \"sklearn.preprocessing.MaxAbsScaler\": {\n",
    "    },\n",
    "\n",
    "    \"sklearn.preprocessing.MinMaxScaler\": {\n",
    "    },\n",
    "\n",
    "    \"sklearn.preprocessing.Normalizer\": {\n",
    "        \"norm\": [\"l1\", \"l2\", \"max\"]\n",
    "    },\n",
    "\n",
    "    \"sklearn.kernel_approximation.Nystroem\": {\n",
    "        \"kernel\": [\"rbf\", \"cosine\", \"chi2\", \"laplacian\", \"polynomial\", \"poly\", \"linear\", \"additive_chi2\", \"sigmoid\"],\n",
    "        \"gamma\": np.arange(0.0, 1.01, 0.05),\n",
    "        \"n_components\": range(1, 11)\n",
    "    },\n",
    "\n",
    "    \"sklearn.decomposition.PCA\": {\n",
    "        \"svd_solver\": [\"randomized\"],\n",
    "        \"iterated_power\": range(1, 11)\n",
    "    },\n",
    "\n",
    "    \"sklearn.kernel_approximation.RBFSampler\": {\n",
    "        \"gamma\": np.arange(0.0, 1.01, 0.05)\n",
    "    },\n",
    "\n",
    "    \"sklearn.preprocessing.RobustScaler\": {\n",
    "    },\n",
    "\n",
    "    \"sklearn.preprocessing.StandardScaler\": {\n",
    "    },\n",
    "\n",
    "    \"tpot.builtins.ZeroCount\": {\n",
    "    },\n",
    "\n",
    "    \"tpot.builtins.OneHotEncoder\": {\n",
    "        \"minimum_fraction\": [0.05, 0.1, 0.15, 0.2, 0.25],\n",
    "        \"sparse\": [False],\n",
    "        \"threshold\": [10]\n",
    "    },\n",
    "\n",
    "    # Selectors\n",
    "\n",
    "    \"sklearn.feature_selection.SelectFwe\": {\n",
    "        \"alpha\": np.arange(0, 0.05, 0.001),\n",
    "        \"score_func\": {\n",
    "            \"sklearn.feature_selection.f_classif\": None\n",
    "        }\n",
    "    },\n",
    "\n",
    "    \"sklearn.feature_selection.SelectPercentile\": {\n",
    "        \"percentile\": range(1, 100),\n",
    "        \"score_func\": {\n",
    "            \"sklearn.feature_selection.f_classif\": None\n",
    "        }\n",
    "    },\n",
    "\n",
    "    \"sklearn.feature_selection.VarianceThreshold\": {\n",
    "        \"threshold\": [0.0001, 0.0005, 0.001, 0.005, 0.01, 0.05, 0.1, 0.2]\n",
    "    }\n",
    "}"
   ]
  },
  {
   "cell_type": "code",
   "execution_count": 11,
   "metadata": {},
   "outputs": [],
   "source": [
    "pipeline_optimizer = TPOTClassifier(generations=5, population_size=10, cv=5, n_jobs=-1,\n",
    "                                    random_state=42, verbosity=2, config_dict=classifier_config_cuml, \n",
    "                                    use_dask=True)"
   ]
  },
  {
   "cell_type": "markdown",
   "metadata": {},
   "source": [
    "### Fitting\n",
    "\n",
    "need to add dask `use_dask=True` in order to leverage multi GPU"
   ]
  },
  {
   "cell_type": "code",
   "execution_count": null,
   "metadata": {},
   "outputs": [
    {
     "data": {
      "application/vnd.jupyter.widget-view+json": {
       "model_id": "afd34771a47f417aa66cda9bdace30f4",
       "version_major": 2,
       "version_minor": 0
      },
      "text/plain": [
       "Optimization Progress:   0%|          | 0/60 [00:00<?, ?pipeline/s]"
      ]
     },
     "metadata": {},
     "output_type": "display_data"
    },
    {
     "name": "stdout",
     "output_type": "stream",
     "text": [
      "[W] [11:04:16.586624] QWL-QN: max iterations reached\n"
     ]
    },
    {
     "name": "stderr",
     "output_type": "stream",
     "text": [
      "distributed.utils - ERROR - 'cv-split-0d699ebe2e54639061b1b4a2baa7f594'\n",
      "Traceback (most recent call last):\n",
      "  File \"/opt/conda/envs/tpot-cuml/lib/python3.8/site-packages/distributed/utils.py\", line 655, in log_errors\n",
      "    yield\n",
      "  File \"/opt/conda/envs/tpot-cuml/lib/python3.8/site-packages/distributed/scheduler.py\", line 2229, in add_worker\n",
      "    typename=types[key],\n",
      "KeyError: 'cv-split-0d699ebe2e54639061b1b4a2baa7f594'\n",
      "distributed.core - ERROR - Exception while handling op register-worker\n",
      "Traceback (most recent call last):\n",
      "  File \"/opt/conda/envs/tpot-cuml/lib/python3.8/site-packages/distributed/core.py\", line 517, in handle_comm\n",
      "    result = await result\n",
      "  File \"/opt/conda/envs/tpot-cuml/lib/python3.8/site-packages/distributed/scheduler.py\", line 2229, in add_worker\n",
      "    typename=types[key],\n",
      "KeyError: 'cv-split-0d699ebe2e54639061b1b4a2baa7f594'\n"
     ]
    },
    {
     "name": "stdout",
     "output_type": "stream",
     "text": [
      "\n",
      "\n",
      "TPOT closed during evaluation in one generation.\n",
      "WARNING: TPOT may not provide a good pipeline if TPOT is stopped/interrupted in a early generation.\n",
      "\n",
      "\n",
      "TPOT closed prematurely. Will use the current best pipeline.\n",
      "[W] [11:34:47.840657] QWL-QN: max iterations reached\n",
      "\n",
      "Best pipeline: LogisticRegression(input_matrix, C=25.0, penalty=l1)\n"
     ]
    }
   ],
   "source": [
    "pipeline_optimizer.fit(X_train, y_train)"
   ]
  }
 ],
 "metadata": {
  "kernelspec": {
   "display_name": "Python [conda env:tpot-cuml]",
   "language": "python",
   "name": "conda-env-tpot-cuml-py"
  },
  "language_info": {
   "codemirror_mode": {
    "name": "ipython",
    "version": 3
   },
   "file_extension": ".py",
   "mimetype": "text/x-python",
   "name": "python",
   "nbconvert_exporter": "python",
   "pygments_lexer": "ipython3",
   "version": "3.8.5"
  }
 },
 "nbformat": 4,
 "nbformat_minor": 4
}
