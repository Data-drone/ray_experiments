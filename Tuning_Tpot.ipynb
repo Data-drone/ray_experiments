{
 "cells": [
  {
   "cell_type": "markdown",
   "metadata": {},
   "source": [
    "# Tuning Tpot"
   ]
  },
  {
   "cell_type": "code",
   "execution_count": 1,
   "metadata": {},
   "outputs": [
    {
     "name": "stderr",
     "output_type": "stream",
     "text": [
      "/opt/conda/envs/tpot-cuml/lib/python3.8/site-packages/tpot/builtins/__init__.py:36: UserWarning: Warning: optional dependency `torch` is not available. - skipping import of NN models.\n",
      "  warnings.warn(\"Warning: optional dependency `torch` is not available. - skipping import of NN models.\")\n"
     ]
    }
   ],
   "source": [
    "from tpot import TPOTClassifier\n",
    "from sklearn.model_selection import train_test_split\n",
    "import pandas as pd\n",
    "import dask.dataframe as dd\n",
    "from dask_cuda import LocalCUDACluster\n",
    "from dask.distributed import Client"
   ]
  },
  {
   "cell_type": "code",
   "execution_count": 2,
   "metadata": {},
   "outputs": [],
   "source": [
    "# CUDA Cluster Setup\n",
    "cluster = LocalCUDACluster(enable_nvlink=True, rmm_pool_size=\"4GB\")\n",
    "client = Client(cluster)"
   ]
  },
  {
   "cell_type": "code",
   "execution_count": 3,
   "metadata": {},
   "outputs": [
    {
     "data": {
      "text/html": [
       "<table style=\"border: 2px solid white;\">\n",
       "<tr>\n",
       "<td style=\"vertical-align: top; border: 0px solid white\">\n",
       "<h3 style=\"text-align: left;\">Client</h3>\n",
       "<ul style=\"text-align: left; list-style: none; margin: 0; padding: 0;\">\n",
       "  <li><b>Scheduler: </b>ucx://127.0.0.1:49887</li>\n",
       "  <li><b>Dashboard: </b><a href='http://127.0.0.1:8787/status' target='_blank'>http://127.0.0.1:8787/status</a></li>\n",
       "</ul>\n",
       "</td>\n",
       "<td style=\"vertical-align: top; border: 0px solid white\">\n",
       "<h3 style=\"text-align: left;\">Cluster</h3>\n",
       "<ul style=\"text-align: left; list-style:none; margin: 0; padding: 0;\">\n",
       "  <li><b>Workers: </b>2</li>\n",
       "  <li><b>Cores: </b>2</li>\n",
       "  <li><b>Memory: </b>67.45 GB</li>\n",
       "</ul>\n",
       "</td>\n",
       "</tr>\n",
       "</table>"
      ],
      "text/plain": [
       "<Client: 'ucx://127.0.0.1:49887' processes=2 threads=2, memory=67.45 GB>"
      ]
     },
     "execution_count": 3,
     "metadata": {},
     "output_type": "execute_result"
    }
   ],
   "source": [
    "client"
   ]
  },
  {
   "cell_type": "code",
   "execution_count": 4,
   "metadata": {},
   "outputs": [],
   "source": [
    "# Load Data\n",
    "train = pd.read_feather(\"/home/jovyan/work/ray_experiments/data/train_feat_1_baseline.feather\")\n",
    "target = train['target'] \n",
    "subtrain = train.drop(['ID_code', 'target'], axis = 1)"
   ]
  },
  {
   "cell_type": "code",
   "execution_count": 5,
   "metadata": {},
   "outputs": [],
   "source": [
    "# convert to dask\n",
    "#subtrain = dd.from_pandas(subtrain, npartitions=2)"
   ]
  },
  {
   "cell_type": "code",
   "execution_count": 6,
   "metadata": {},
   "outputs": [],
   "source": [
    "X_train, X_test, y_train, y_test = train_test_split(subtrain, target, test_size=0.3,\n",
    "                                                    stratify=target,\n",
    "                                                    random_state=42)"
   ]
  },
  {
   "cell_type": "markdown",
   "metadata": {},
   "source": [
    "## Initiating TPoT\n",
    "\n",
    "we will use the cuml config"
   ]
  },
  {
   "cell_type": "code",
   "execution_count": 7,
   "metadata": {},
   "outputs": [],
   "source": [
    "import numpy as np\n",
    "\n",
    "# This configuration provides users with access to a GPU the ability to\n",
    "# use RAPIDS cuML and DMLC/XGBoost classifiers as estimators alongside\n",
    "# the scikit-learn preprocessors in the TPOT default configuration.\n",
    "\n",
    "classifier_config_cuml = {\n",
    "    # cuML + DMLC/XGBoost Classifiers\n",
    "\n",
    "    \"cuml.neighbors.KNeighborsClassifier\": {\n",
    "        \"n_neighbors\": range(1, 101),\n",
    "        \"weights\": [\"uniform\",],\n",
    "    },\n",
    "\n",
    "    \"cuml.linear_model.LogisticRegression\": {\n",
    "        \"penalty\": [\"l1\", \"l2\", \"elasticnet\"],\n",
    "        \"C\": [1e-4, 1e-3, 1e-2, 1e-1, 0.5, 1., 5., 10., 15., 20., 25.,],\n",
    "    },\n",
    "    \n",
    "    #\"cuml.ensemble.RandomForestClassifier\": {\n",
    "    #    \"n_estimators\": [100],\n",
    "    #    \"max_depth\": np.arange(4,25,1),\n",
    "    #    \"max_features\": range(3, 10),\n",
    "    #    \"n_bins\": [8]\n",
    "    #},\n",
    "\n",
    "    \"xgboost.XGBClassifier\": {\n",
    "        \"n_estimators\": [300],\n",
    "        \"max_depth\": range(3, 10),\n",
    "        \"learning_rate\": [1e-2, 1e-1, 0.5, 1.],\n",
    "        \"subsample\": np.arange(0.05, 1.01, 0.05),\n",
    "        \"min_child_weight\": range(1, 21),\n",
    "        \"alpha\": [1, 10],\n",
    "        \"tree_method\": [\"gpu_hist\"],\n",
    "        \"n_jobs\": [1],\n",
    "        \"verbosity\": [0]\n",
    "    },\n",
    "    \n",
    "    # test lightgbm\n",
    "    #\"lightgbm.LGBMClassifier\": {\n",
    "    #    \"n_estimators\": [300],\n",
    "    #    \"learning_rate\": [1e-2, 1e-1, 0.5, 1.],\n",
    "    #    \"objective\": \"binary\",\n",
    "    #    \"min_child_weight\": np.arange(1e-3, 1e-1, 1e-3),\n",
    "    #    \"n_jobs\": [1]\n",
    "    #},\n",
    "\n",
    "    # Sklearn Preprocesssors\n",
    "\n",
    "    \"sklearn.preprocessing.Binarizer\": {\n",
    "        \"threshold\": np.arange(0.0, 1.01, 0.05)\n",
    "    },\n",
    "\n",
    "    # cuml pca instead\n",
    "    #\"cuml.PCA\": {\n",
    "    #    \"n_components\"\n",
    "    #}\n",
    "    \n",
    "    # this is really slow\n",
    "    #\"sklearn.decomposition.FastICA\": {\n",
    "    #    \"tol\": np.arange(0.0, 1.01, 0.05)\n",
    "    #},\n",
    "\n",
    "    \"sklearn.cluster.FeatureAgglomeration\": {\n",
    "        \"linkage\": [\"ward\", \"complete\", \"average\"],\n",
    "        \"affinity\": [\"euclidean\", \"l1\", \"l2\", \"manhattan\", \"cosine\"]\n",
    "    },\n",
    "\n",
    "    \"sklearn.preprocessing.MaxAbsScaler\": {\n",
    "    },\n",
    "\n",
    "    \"sklearn.preprocessing.MinMaxScaler\": {\n",
    "    },\n",
    "\n",
    "    \"sklearn.preprocessing.Normalizer\": {\n",
    "        \"norm\": [\"l1\", \"l2\", \"max\"]\n",
    "    },\n",
    "\n",
    "    \"sklearn.kernel_approximation.Nystroem\": {\n",
    "        \"kernel\": [\"rbf\", \"cosine\", \"chi2\", \"laplacian\", \"polynomial\", \"poly\", \"linear\", \"additive_chi2\", \"sigmoid\"],\n",
    "        \"gamma\": np.arange(0.0, 1.01, 0.05),\n",
    "        \"n_components\": range(1, 11)\n",
    "    },\n",
    "\n",
    "    #\"sklearn.decomposition.PCA\": {\n",
    "    #    \"svd_solver\": [\"randomized\"],\n",
    "    #    \"iterated_power\": range(1, 11)\n",
    "    #},\n",
    "    \n",
    "    \"cuml.PCA\": {\n",
    "        \"svd_solver\": [\"jacobi\"],\n",
    "        \"iterated_power\": range(1, 11)\n",
    "    },\n",
    "\n",
    "    \"sklearn.kernel_approximation.RBFSampler\": {\n",
    "        \"gamma\": np.arange(0.0, 1.01, 0.05)\n",
    "    },\n",
    "\n",
    "    \"sklearn.preprocessing.RobustScaler\": {\n",
    "    },\n",
    "\n",
    "    \"sklearn.preprocessing.StandardScaler\": {\n",
    "    },\n",
    "\n",
    "    \"tpot.builtins.ZeroCount\": {\n",
    "    },\n",
    "\n",
    "    \"tpot.builtins.OneHotEncoder\": {\n",
    "        \"minimum_fraction\": [0.05, 0.1, 0.15, 0.2, 0.25],\n",
    "        \"sparse\": [False],\n",
    "        \"threshold\": [10]\n",
    "    },\n",
    "\n",
    "    # Selectors\n",
    "\n",
    "    \"sklearn.feature_selection.SelectFwe\": {\n",
    "        \"alpha\": np.arange(0, 0.05, 0.001),\n",
    "        \"score_func\": {\n",
    "            \"sklearn.feature_selection.f_classif\": None\n",
    "        }\n",
    "    },\n",
    "\n",
    "    \"sklearn.feature_selection.SelectPercentile\": {\n",
    "        \"percentile\": range(1, 100),\n",
    "        \"score_func\": {\n",
    "            \"sklearn.feature_selection.f_classif\": None\n",
    "        }\n",
    "    },\n",
    "\n",
    "    \"sklearn.feature_selection.VarianceThreshold\": {\n",
    "        \"threshold\": [0.0001, 0.0005, 0.001, 0.005, 0.01, 0.05, 0.1, 0.2]\n",
    "    }\n",
    "}"
   ]
  },
  {
   "cell_type": "code",
   "execution_count": 8,
   "metadata": {},
   "outputs": [],
   "source": [
    "# Need njobs = 1 for cuml\n",
    "pipeline_optimizer = TPOTClassifier(generations=5, population_size=10, cv=5, n_jobs=1,\n",
    "                                    random_state=42, verbosity=2, scoring='roc_auc', \n",
    "                                    config_dict=classifier_config_cuml, \n",
    "                                    use_dask=True)"
   ]
  },
  {
   "cell_type": "markdown",
   "metadata": {},
   "source": [
    "### Fitting\n",
    "\n",
    "need to add dask `use_dask=True` in order to leverage multi GPU"
   ]
  },
  {
   "cell_type": "code",
   "execution_count": 9,
   "metadata": {},
   "outputs": [
    {
     "name": "stdout",
     "output_type": "stream",
     "text": [
      "[W] [11:17:57.996630] Warning(`_build_params`): As of v0.16, PCA invoked without an n_components argument defauts to using min(n_samples, n_features) rather than 1\n"
     ]
    },
    {
     "data": {
      "application/vnd.jupyter.widget-view+json": {
       "model_id": "ea63664514724512bde4d5a16c472c15",
       "version_major": 2,
       "version_minor": 0
      },
      "text/plain": [
       "Optimization Progress:   0%|          | 0/60 [00:00<?, ?pipeline/s]"
      ]
     },
     "metadata": {},
     "output_type": "display_data"
    },
    {
     "name": "stdout",
     "output_type": "stream",
     "text": [
      "\n",
      "Generation 1 - Current best internal CV score: 0.8851678309945477\n",
      "\n",
      "Generation 2 - Current best internal CV score: 0.8851678309945477\n",
      "\n",
      "Generation 3 - Current best internal CV score: 0.8851678309945477\n",
      "\n",
      "Generation 4 - Current best internal CV score: 0.8851678309945477\n",
      "\n",
      "Generation 5 - Current best internal CV score: 0.8852792511659686\n",
      "\n",
      "Best pipeline: XGBClassifier(RobustScaler(input_matrix), alpha=10, learning_rate=0.1, max_depth=8, min_child_weight=11, n_estimators=300, n_jobs=1, subsample=0.55, tree_method=gpu_hist, verbosity=0)\n"
     ]
    },
    {
     "data": {
      "text/plain": [
       "TPOTClassifier(config_dict={'cuml.PCA': {'iterated_power': range(1, 11),\n",
       "                                         'svd_solver': ['jacobi']},\n",
       "                            'cuml.linear_model.LogisticRegression': {'C': [0.0001,\n",
       "                                                                           0.001,\n",
       "                                                                           0.01,\n",
       "                                                                           0.1,\n",
       "                                                                           0.5,\n",
       "                                                                           1.0,\n",
       "                                                                           5.0,\n",
       "                                                                           10.0,\n",
       "                                                                           15.0,\n",
       "                                                                           20.0,\n",
       "                                                                           25.0],\n",
       "                                                                     'penalty': ['l1',\n",
       "                                                                                 'l2',\n",
       "                                                                                 'elasticnet']},\n",
       "                            'cuml.neighbors.KNeighborsClassifier': {'n_neighbors': range(1, 101),\n",
       "                                                                    'weights': ['uniform']},\n",
       "                            'sklearn.cluster.FeatureAgglome...\n",
       "                                                                        0.1,\n",
       "                                                                        0.5,\n",
       "                                                                        1.0],\n",
       "                                                      'max_depth': range(3, 10),\n",
       "                                                      'min_child_weight': range(1, 21),\n",
       "                                                      'n_estimators': [300],\n",
       "                                                      'n_jobs': [1],\n",
       "                                                      'subsample': array([0.05, 0.1 , 0.15, 0.2 , 0.25, 0.3 , 0.35, 0.4 , 0.45, 0.5 , 0.55,\n",
       "       0.6 , 0.65, 0.7 , 0.75, 0.8 , 0.85, 0.9 , 0.95, 1.  ]),\n",
       "                                                      'tree_method': ['gpu_hist'],\n",
       "                                                      'verbosity': [0]}},\n",
       "               generations=5, population_size=10, random_state=42,\n",
       "               scoring='roc_auc', use_dask=True, verbosity=2)"
      ]
     },
     "execution_count": 9,
     "metadata": {},
     "output_type": "execute_result"
    }
   ],
   "source": [
    "pipeline_optimizer.fit(X_train, y_train)"
   ]
  }
 ],
 "metadata": {
  "kernelspec": {
   "display_name": "Python [conda env:tpot-cuml]",
   "language": "python",
   "name": "conda-env-tpot-cuml-py"
  },
  "language_info": {
   "codemirror_mode": {
    "name": "ipython",
    "version": 3
   },
   "file_extension": ".py",
   "mimetype": "text/x-python",
   "name": "python",
   "nbconvert_exporter": "python",
   "pygments_lexer": "ipython3",
   "version": "3.8.5"
  }
 },
 "nbformat": 4,
 "nbformat_minor": 4
}
